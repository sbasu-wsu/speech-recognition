{
  "cells": [
    {
      "cell_type": "code",
      "execution_count": 108,
      "metadata": {
        "id": "SwLJ0r8zheau"
      },
      "outputs": [],
      "source": [
        "import tensorflow as tf\n",
        "from tensorflow import keras\n",
        "from tensorflow.keras import layers,Model\n",
        "from keras.layers import Activation, Dense,Conv2D,Dropout,Activation,Flatten,MaxPooling2D\n",
        "from tensorflow.keras.models import Sequential\n",
        "import imblearn\n",
        "from imblearn.over_sampling import RandomOverSampler,SMOTE\n",
        "import pandas as pd\n",
        "import numpy as np\n",
        "import os\n",
        "from os import listdir\n",
        "from os.path import isfile, join\n",
        "import librosa\n",
        "from sklearn.model_selection import train_test_split\n",
        "\n",
        "import numpy as np\n",
        "import scipy.io.wavfile as wav\n",
        "from scipy.io.wavfile import write\n",
        "from io import BytesIO\n",
        "from base64 import b64decode\n",
        "from google.colab import output\n",
        "import IPython.display as ipd\n",
        "\n",
        "from IPython.display import Javascript\n"
      ]
    },
    {
      "cell_type": "code",
      "execution_count": 109,
      "metadata": {
        "id": "tJCoj3Juheaw"
      },
      "outputs": [],
      "source": [
        "train_path='/content/sample_data/data/train2/'\n",
        "test_path='/content/sample_data/data/test2/'\n",
        "model_path='/content/sample_data/data/audio_classification'\n"
      ]
    },
    {
      "cell_type": "code",
      "execution_count": 110,
      "metadata": {
        "id": "JhFTL8veheaw"
      },
      "outputs": [],
      "source": [
        "def features_extractorcnn(file_name):\n",
        "    audio, sample_rate = librosa.load(file_name) \n",
        "    # audio, sample_rate = json.load(file_name) \n",
        "    mfccs_features =librosa.feature.melspectrogram(y=audio,sr=sample_rate)\n",
        "    #mfccs_scaled_features = np.mean(mfccs_features.T,axis=0)\n",
        "    \n",
        "    return mfccs_features.reshape(128,44,1)"
      ]
    },
    {
      "cell_type": "code",
      "execution_count": 111,
      "metadata": {
        "colab": {
          "base_uri": "https://localhost:8080/"
        },
        "id": "Rn1r3zSQheaw",
        "outputId": "6b06b982-b3f3-4b2c-f9fa-93d8f30ee1ae"
      },
      "outputs": [
        {
          "output_type": "execute_result",
          "data": {
            "text/plain": [
              "(128, 44, 1)"
            ]
          },
          "metadata": {},
          "execution_count": 111
        }
      ],
      "source": [
        "features_extractorcnn('/content/sample_data/data/test2/firefly.2v6b3rcf.ingestion-7558d88f45-lsf97.wav').shape"
      ]
    },
    {
      "cell_type": "code",
      "execution_count": null,
      "metadata": {
        "id": "fCNBWrKtheax"
      },
      "outputs": [],
      "source": [
        ""
      ]
    },
    {
      "cell_type": "code",
      "execution_count": 112,
      "metadata": {
        "id": "XgEstq83heay"
      },
      "outputs": [],
      "source": [
        "x=np.array([features_extractorcnn(train_path+'/'+f) for f in listdir(train_path) if isfile(join(train_path, f))])\n",
        "x_test=np.array([features_extractorcnn(test_path+'/'+f) for f in listdir(test_path) if isfile(join(test_path, f))])"
      ]
    },
    {
      "cell_type": "code",
      "execution_count": 113,
      "metadata": {
        "id": "DKEZ8fmDheay"
      },
      "outputs": [],
      "source": [
        "y=np.array([f.split('.')[0] for f in listdir(train_path) if isfile(join(train_path, f))])\n",
        "y=np.array(pd.get_dummies(y))\n",
        "\n",
        "# y_test=np.array([f.split('.')[0] for f in listdir(test_path) if isfile(join(test_path, f))])\n",
        "# y_test=np.array(pd.get_dummies(y_test))"
      ]
    },
    {
      "cell_type": "code",
      "execution_count": 114,
      "metadata": {
        "id": "M0MmsN5Mheay"
      },
      "outputs": [],
      "source": [
        "x_train,x_val,y_train,y_val=train_test_split(x,y,test_size=0.2,random_state=0)"
      ]
    },
    {
      "cell_type": "code",
      "execution_count": 115,
      "metadata": {
        "id": "ggSxl7CEheay"
      },
      "outputs": [],
      "source": [
        "oversample = RandomOverSampler(sampling_strategy='minority')\n",
        "#x_over, y_over = oversample.fit_resample(x_train, y_train)\n",
        "x_over, y_over = oversample.fit_resample(x_train.reshape(len(x_train),-1), y_train)\n",
        "x_over=x_over.reshape(len(x_over),128,44,1)"
      ]
    },
    {
      "cell_type": "code",
      "execution_count": 116,
      "metadata": {
        "colab": {
          "base_uri": "https://localhost:8080/"
        },
        "id": "bkkgN3fJheaz",
        "outputId": "04943b48-0a4f-4337-8c61-606cb6a87bc5"
      },
      "outputs": [
        {
          "output_type": "execute_result",
          "data": {
            "text/plain": [
              "(384, 128, 44, 1)"
            ]
          },
          "metadata": {},
          "execution_count": 116
        }
      ],
      "source": [
        "x_over.shape"
      ]
    },
    {
      "cell_type": "code",
      "source": [
        "y_over.shape"
      ],
      "metadata": {
        "colab": {
          "base_uri": "https://localhost:8080/"
        },
        "id": "OtOgMQ_sQ9vf",
        "outputId": "e616ebf7-30d9-4e77-8b2a-fac113068908"
      },
      "execution_count": 117,
      "outputs": [
        {
          "output_type": "execute_result",
          "data": {
            "text/plain": [
              "(384, 7)"
            ]
          },
          "metadata": {},
          "execution_count": 117
        }
      ]
    },
    {
      "cell_type": "code",
      "execution_count": 118,
      "metadata": {
        "colab": {
          "base_uri": "https://localhost:8080/"
        },
        "id": "AHPVLV2dheaz",
        "outputId": "b98500fa-7c7b-40d1-e574-f54a1cd94ca6"
      },
      "outputs": [
        {
          "output_type": "stream",
          "name": "stdout",
          "text": [
            "Epoch 1/100\n",
            "12/12 [==============================] - 4s 319ms/step - loss: 5.7155 - accuracy: 0.3594 - val_loss: 1.3812 - val_accuracy: 0.5000\n",
            "Epoch 2/100\n",
            "12/12 [==============================] - 4s 301ms/step - loss: 1.2769 - accuracy: 0.6068 - val_loss: 1.5584 - val_accuracy: 0.5222\n",
            "Epoch 3/100\n",
            "12/12 [==============================] - 4s 300ms/step - loss: 0.9993 - accuracy: 0.6979 - val_loss: 1.4556 - val_accuracy: 0.5556\n",
            "Epoch 4/100\n",
            "12/12 [==============================] - 4s 322ms/step - loss: 0.7493 - accuracy: 0.7552 - val_loss: 1.2777 - val_accuracy: 0.5667\n",
            "Epoch 5/100\n",
            "12/12 [==============================] - 4s 305ms/step - loss: 0.6293 - accuracy: 0.7839 - val_loss: 1.1735 - val_accuracy: 0.6556\n",
            "Epoch 6/100\n",
            "12/12 [==============================] - 4s 302ms/step - loss: 0.5797 - accuracy: 0.8073 - val_loss: 1.2307 - val_accuracy: 0.6667\n",
            "Epoch 7/100\n",
            "12/12 [==============================] - 4s 308ms/step - loss: 0.5106 - accuracy: 0.8568 - val_loss: 1.0551 - val_accuracy: 0.7000\n",
            "Epoch 8/100\n",
            "12/12 [==============================] - 4s 300ms/step - loss: 0.4158 - accuracy: 0.8594 - val_loss: 1.0776 - val_accuracy: 0.6333\n",
            "Epoch 9/100\n",
            "12/12 [==============================] - 4s 297ms/step - loss: 0.4370 - accuracy: 0.8880 - val_loss: 1.0820 - val_accuracy: 0.6667\n",
            "Epoch 10/100\n",
            "12/12 [==============================] - 4s 301ms/step - loss: 0.2924 - accuracy: 0.9323 - val_loss: 1.0360 - val_accuracy: 0.6333\n"
          ]
        },
        {
          "output_type": "execute_result",
          "data": {
            "text/plain": [
              "<keras.callbacks.History at 0x7f8c77afef90>"
            ]
          },
          "metadata": {},
          "execution_count": 118
        }
      ],
      "source": [
        "callback = tf.keras.callbacks.EarlyStopping(monitor='val_accuracy', patience=3)\n",
        "\n",
        "model1=keras.Sequential([\n",
        "    #cnn\n",
        "    layers.Conv2D(filters=32,kernel_size=(3,3),activation='relu',input_shape=(128,44,1)),\n",
        "    keras.layers.Dropout(0.25),\n",
        "    layers.MaxPooling2D((2,2)),\n",
        "    layers.Conv2D(filters=64,kernel_size=(3,3),activation='relu'),\n",
        "    keras.layers.Dropout(0.25),\n",
        "    layers.MaxPooling2D((2,2)),\n",
        "    \n",
        "    #dense\n",
        "    layers.Flatten(),\n",
        "    layers.Dense(64,activation='relu'),\n",
        "    keras.layers.Dropout(0.25),\n",
        "    layers.Dense(7,activation='softmax')\n",
        "    \n",
        "])\n",
        "model1.compile(optimizer='adam',\n",
        "            loss='categorical_crossentropy',\n",
        "            metrics=['accuracy'])\n",
        "model1.fit(x_over,y_over, epochs=100, validation_data=(x_val, y_val),callbacks=[callback])\n"
      ]
    },
    {
      "cell_type": "code",
      "source": [
        "\n",
        "def build_cnn(input_shape, learning_rate, error=\"sparse_categorical_crossentropy\") :\n",
        "    #build network\n",
        "  model = keras.Sequential()\n",
        "\n",
        "    # type of NN we are building\n",
        "    #conv 1 - filters=64 kernel=3,3 kernel_regularizer->L2 tackles training window to improve model\n",
        "  model.add(keras.layers.Conv2D(64, (3,3), activation=\"relu\", input_shape=input_shape, kernel_regularizer=keras.regularizers.l2(0.001)))\n",
        "    # batch normalization \n",
        "  model.add(keras.layers.BatchNormalization())\n",
        "    # maxpooling to downsample the output\n",
        "  model.add(keras.layers.MaxPool2D((3,3), strides=(2,2), padding=\"same\"))\n",
        "\n",
        "\n",
        "    #conv 2\n",
        "  model.add(keras.layers.Conv2D(32, (3,3), activation=\"relu\", kernel_regularizer=keras.regularizers.l2(0.001)))\n",
        "  model.add(keras.layers.BatchNormalization())\n",
        "  model.add(keras.layers.MaxPool2D((3,3), strides=(2,2), padding=\"same\"))\n",
        "\n",
        "\n",
        "    #conv 3\n",
        "  model.add(keras.layers.Conv2D(32, (2,2), activation=\"relu\", kernel_regularizer=keras.regularizers.l2(0.001)))\n",
        "  model.add(keras.layers.BatchNormalization())\n",
        "  model.add(keras.layers.MaxPool2D((2,2), strides=(2,2), padding=\"same\"))\n",
        "\n",
        "    #flatten the 3D output feed into dense layer (1D array)\n",
        "  model.add(keras.layers.Flatten())\n",
        "  model.add(keras.layers.Dense(64, activation=\"relu\"))\n",
        "    # tackle the fitting -> shoots down 30% of neurons into dense layer stochastically \n",
        "  model.add(keras.layers.Dropout(0.3))\n",
        "\n",
        "    #softmax classifier -> output array of scores for the prediction of each keyword\n",
        "  model.add(keras.layers.Dense(num_keywords=7, activation=\"softmax\"))\n",
        "\n",
        "    #compile the model\n",
        "  optimiser = keras.optimizers.Adam(learning_rate=0.001)\n",
        "  model.compile(optimizer=optimiser, loss='sparse_categorical_crossentropy', metrics=[\"accuracy\"])\n",
        "\n",
        "    #print model overview\n",
        "  model.summary()\n",
        "\n",
        "  model.fit(x_train, y_train, epochs=40, batch_size=32, validation_data=(x_validation,y_validation))\n",
        "\n",
        "\n",
        "    # return model"
      ],
      "metadata": {
        "id": "T3DsHUKlBCuX"
      },
      "execution_count": 119,
      "outputs": []
    },
    {
      "cell_type": "code",
      "execution_count": null,
      "metadata": {
        "id": "Mb0qc5zlhea0"
      },
      "outputs": [],
      "source": [
        ""
      ]
    },
    {
      "cell_type": "code",
      "execution_count": 120,
      "metadata": {
        "colab": {
          "base_uri": "https://localhost:8080/"
        },
        "id": "p0w8hNsFhea0",
        "outputId": "ec3ba5c6-c1e0-445a-bd68-4bb733eb25dc"
      },
      "outputs": [
        {
          "output_type": "stream",
          "name": "stdout",
          "text": [
            "Model: \"sequential_8\"\n",
            "_________________________________________________________________\n",
            " Layer (type)                Output Shape              Param #   \n",
            "=================================================================\n",
            " conv2d_16 (Conv2D)          (None, 126, 42, 32)       320       \n",
            "                                                                 \n",
            " dropout_24 (Dropout)        (None, 126, 42, 32)       0         \n",
            "                                                                 \n",
            " max_pooling2d_16 (MaxPoolin  (None, 63, 21, 32)       0         \n",
            " g2D)                                                            \n",
            "                                                                 \n",
            " conv2d_17 (Conv2D)          (None, 61, 19, 64)        18496     \n",
            "                                                                 \n",
            " dropout_25 (Dropout)        (None, 61, 19, 64)        0         \n",
            "                                                                 \n",
            " max_pooling2d_17 (MaxPoolin  (None, 30, 9, 64)        0         \n",
            " g2D)                                                            \n",
            "                                                                 \n",
            " flatten_8 (Flatten)         (None, 17280)             0         \n",
            "                                                                 \n",
            " dense_16 (Dense)            (None, 64)                1105984   \n",
            "                                                                 \n",
            " dropout_26 (Dropout)        (None, 64)                0         \n",
            "                                                                 \n",
            " dense_17 (Dense)            (None, 7)                 455       \n",
            "                                                                 \n",
            "=================================================================\n",
            "Total params: 1,125,255\n",
            "Trainable params: 1,125,255\n",
            "Non-trainable params: 0\n",
            "_________________________________________________________________\n"
          ]
        }
      ],
      "source": [
        "model1.summary()"
      ]
    },
    {
      "cell_type": "code",
      "execution_count": 121,
      "metadata": {
        "colab": {
          "base_uri": "https://localhost:8080/"
        },
        "id": "fHL07t_ghea1",
        "outputId": "26db4d3f-f4fc-49a7-edff-b9150d1ce168"
      },
      "outputs": [
        {
          "output_type": "execute_result",
          "data": {
            "text/plain": [
              "array([[9.72445589e-03, 6.68589532e-01, 1.23360520e-02, 2.08435277e-03,\n",
              "        1.53615151e-03, 3.04835230e-01, 8.94292025e-04],\n",
              "       [1.29986145e-02, 2.18370073e-02, 1.00366250e-02, 5.74935794e-01,\n",
              "        5.83662316e-02, 3.72604765e-02, 2.84565270e-01],\n",
              "       [3.29507282e-03, 1.17310742e-03, 5.76793274e-04, 4.10720915e-01,\n",
              "        2.71099340e-02, 7.41610304e-03, 5.49708068e-01],\n",
              "       [1.07661327e-02, 5.42052574e-02, 3.65929231e-02, 3.60766768e-01,\n",
              "        2.89241839e-02, 3.33118170e-01, 1.75626576e-01],\n",
              "       [1.63034633e-01, 1.16478167e-01, 2.11855143e-01, 9.68802050e-02,\n",
              "        1.21035211e-01, 1.55682936e-01, 1.35033652e-01],\n",
              "       [3.39155421e-02, 2.69206129e-02, 3.88855860e-02, 4.50929821e-01,\n",
              "        5.49088567e-02, 8.38079154e-02, 3.10631573e-01],\n",
              "       [6.60272529e-21, 8.63753951e-20, 6.39646835e-10, 2.47200508e-22,\n",
              "        1.00000000e+00, 6.87632302e-25, 9.23865298e-23],\n",
              "       [4.79694366e-01, 1.89426020e-02, 4.29785341e-01, 2.88124871e-03,\n",
              "        3.57783027e-03, 4.49248068e-02, 2.01937538e-02],\n",
              "       [5.70218861e-01, 8.00845399e-02, 7.62111545e-02, 3.13206716e-03,\n",
              "        6.20545063e-04, 2.50890434e-01, 1.88424792e-02],\n",
              "       [4.48304117e-02, 2.81624030e-04, 5.63879265e-04, 2.54199039e-02,\n",
              "        2.39993259e-02, 1.44106118e-04, 9.04760778e-01],\n",
              "       [2.92217374e-01, 5.49148440e-01, 5.97991049e-02, 6.50646612e-02,\n",
              "        8.97364318e-03, 1.26526980e-02, 1.21441288e-02],\n",
              "       [1.06065948e-12, 4.69951541e-04, 2.61498689e-09, 9.05147731e-01,\n",
              "        1.59418747e-07, 9.88631416e-03, 8.44959021e-02],\n",
              "       [2.45793490e-06, 9.99910474e-01, 8.61278968e-05, 5.32087086e-07,\n",
              "        7.10234302e-11, 3.37900161e-07, 3.33491146e-09],\n",
              "       [2.31265603e-03, 8.88819061e-03, 5.83456247e-04, 9.77460854e-03,\n",
              "        3.95982146e-01, 2.12434158e-02, 5.61215460e-01],\n",
              "       [9.99999404e-01, 1.56057917e-10, 2.34092780e-11, 2.30342238e-07,\n",
              "        8.61190297e-13, 1.25686721e-14, 3.40738183e-07],\n",
              "       [1.32129699e-01, 6.10027790e-01, 1.87738940e-01, 2.33981162e-02,\n",
              "        4.14623460e-03, 3.10212150e-02, 1.15379728e-02],\n",
              "       [1.38565397e-03, 9.95015167e-03, 2.53192102e-05, 3.05103022e-04,\n",
              "        1.12545320e-06, 7.78856799e-02, 9.10446942e-01],\n",
              "       [1.80253357e-06, 2.02121548e-04, 4.14379747e-06, 9.77931172e-02,\n",
              "        4.83694300e-03, 1.15080184e-04, 8.97046745e-01],\n",
              "       [9.02639329e-03, 7.19733298e-01, 8.89463350e-03, 1.15141653e-01,\n",
              "        6.39958456e-02, 2.84219906e-02, 5.47862425e-02],\n",
              "       [7.12115169e-02, 9.21122879e-02, 2.65854090e-01, 9.36321914e-02,\n",
              "        1.76863015e-01, 1.33735970e-01, 1.66590944e-01],\n",
              "       [2.43427381e-01, 1.51917502e-01, 4.78509963e-01, 6.34097606e-02,\n",
              "        1.10686570e-02, 2.28516404e-02, 2.88151260e-02],\n",
              "       [4.09551322e-01, 9.63250995e-02, 1.30276278e-01, 1.87293679e-01,\n",
              "        2.85000969e-02, 3.66005488e-02, 1.11453004e-01],\n",
              "       [2.84348637e-01, 3.03913150e-02, 2.52267569e-02, 2.06757220e-04,\n",
              "        2.56550498e-04, 6.58649445e-01, 9.20547231e-04],\n",
              "       [2.56053356e-09, 9.98266160e-01, 1.73391763e-03, 1.43233548e-12,\n",
              "        1.89051975e-24, 2.72877338e-17, 1.40329032e-19],\n",
              "       [6.62788589e-05, 1.00350859e-04, 9.98874962e-01, 1.69856328e-04,\n",
              "        3.28620845e-05, 7.37496943e-04, 1.82688709e-05],\n",
              "       [9.38243465e-05, 1.74800425e-05, 9.99373376e-01, 1.82284694e-08,\n",
              "        1.77065851e-06, 5.07634482e-04, 5.96236805e-06],\n",
              "       [9.99729931e-01, 1.28622673e-07, 1.35653509e-05, 2.10416780e-04,\n",
              "        7.66323449e-09, 1.35282763e-08, 4.59206276e-05],\n",
              "       [1.08061962e-01, 2.20337510e-02, 2.42088810e-02, 1.83562443e-01,\n",
              "        6.48242608e-02, 4.17146459e-02, 5.55594087e-01],\n",
              "       [4.99270530e-03, 1.40996428e-06, 9.94773805e-01, 1.02571116e-08,\n",
              "        7.44792006e-10, 2.30612117e-04, 1.37210566e-06],\n",
              "       [9.59884584e-01, 5.01618115e-03, 7.56771257e-03, 4.94485721e-03,\n",
              "        1.06048486e-04, 4.10920382e-03, 1.83714125e-02],\n",
              "       [9.86005127e-01, 2.31695734e-03, 4.31725523e-04, 5.48877148e-03,\n",
              "        6.40290309e-05, 2.19317208e-05, 5.67131117e-03],\n",
              "       [1.02147297e-03, 1.26789164e-05, 4.39297366e-07, 8.87565136e-01,\n",
              "        1.71728828e-03, 8.98990820e-08, 1.09682843e-01],\n",
              "       [6.04498148e-01, 1.80137768e-01, 1.30079508e-01, 1.29550137e-02,\n",
              "        2.09077774e-03, 3.97550203e-02, 3.04837152e-02],\n",
              "       [1.77249751e-06, 2.87753976e-09, 1.73083629e-12, 6.68835104e-01,\n",
              "        1.00871468e-07, 1.15935874e-12, 3.31163079e-01],\n",
              "       [2.09499657e-11, 2.60026727e-15, 2.86947287e-16, 9.99632120e-01,\n",
              "        1.08198801e-08, 8.77845147e-16, 3.67866305e-04],\n",
              "       [5.57912106e-04, 1.09012023e-01, 6.11770898e-03, 6.39136910e-01,\n",
              "        1.98217276e-02, 1.44975744e-02, 2.10856155e-01],\n",
              "       [5.15162647e-02, 1.11699542e-02, 9.36037183e-01, 2.07024073e-04,\n",
              "        1.23005439e-05, 1.00127398e-03, 5.60847475e-05],\n",
              "       [5.01168817e-02, 2.53949553e-01, 6.44661665e-01, 1.47652151e-02,\n",
              "        1.78791548e-03, 3.19679491e-02, 2.75092060e-03],\n",
              "       [6.27989220e-06, 9.60212648e-01, 3.97810750e-02, 2.91570812e-09,\n",
              "        1.58058254e-15, 4.16894980e-13, 3.84834699e-12],\n",
              "       [2.43303044e-10, 3.34212658e-08, 9.98741567e-01, 2.97216141e-09,\n",
              "        2.16768967e-08, 1.25850714e-03, 1.72067360e-09],\n",
              "       [2.33278088e-02, 1.08914701e-02, 2.10567847e-01, 8.91831219e-02,\n",
              "        4.29966897e-01, 8.82406160e-02, 1.47822171e-01],\n",
              "       [5.36051989e-02, 1.46790236e-01, 1.56957611e-01, 1.94325104e-01,\n",
              "        1.02623470e-01, 1.65985227e-01, 1.79713115e-01],\n",
              "       [3.01419050e-08, 2.62323883e-04, 2.06989199e-07, 5.64072907e-01,\n",
              "        3.95633047e-04, 3.35846737e-04, 4.34932947e-01],\n",
              "       [1.62088454e-05, 3.69739864e-05, 1.52406469e-01, 4.03682492e-08,\n",
              "        6.96102006e-06, 8.47531140e-01, 2.23733150e-06],\n",
              "       [9.27333236e-02, 2.63702691e-01, 2.94601675e-02, 4.39532660e-03,\n",
              "        2.71577132e-03, 5.90803325e-01, 1.61893759e-02],\n",
              "       [3.89538128e-15, 5.44987570e-28, 1.68644873e-24, 6.52399613e-04,\n",
              "        2.58344471e-01, 8.58631528e-16, 7.41003096e-01],\n",
              "       [9.28836346e-01, 1.01859160e-02, 6.41104253e-03, 8.25814146e-04,\n",
              "        1.20527489e-04, 4.31275703e-02, 1.04928184e-02],\n",
              "       [3.49891298e-02, 1.24694176e-01, 1.14702009e-01, 3.16295236e-01,\n",
              "        6.37883022e-02, 1.05897777e-01, 2.39633456e-01],\n",
              "       [9.21760052e-02, 1.55142054e-01, 2.65050884e-02, 2.82404292e-02,\n",
              "        8.26622918e-03, 6.33740008e-01, 5.59301823e-02],\n",
              "       [6.78114733e-03, 7.68461359e-06, 8.45468730e-06, 5.20666957e-01,\n",
              "        7.95376971e-02, 3.29457202e-06, 3.92994732e-01],\n",
              "       [5.44040871e-04, 9.89705920e-01, 9.74914897e-03, 7.31649664e-07,\n",
              "        3.11164627e-09, 1.66419014e-07, 1.26607574e-07],\n",
              "       [2.68922959e-05, 4.25349845e-06, 9.88328397e-01, 1.82179761e-07,\n",
              "        1.36354757e-07, 1.16397245e-02, 4.98254394e-07],\n",
              "       [5.42000914e-03, 6.33701356e-03, 7.36182988e-01, 1.61228970e-01,\n",
              "        8.67914583e-04, 8.65804702e-02, 3.38261505e-03],\n",
              "       [3.18832457e-01, 2.16930896e-01, 2.55963802e-01, 1.14445820e-01,\n",
              "        1.02959564e-02, 4.22200933e-02, 4.13110256e-02],\n",
              "       [1.06766000e-01, 1.31903306e-01, 1.51329279e-01, 2.04931483e-01,\n",
              "        8.84808302e-02, 1.59064740e-01, 1.57524407e-01],\n",
              "       [2.45190138e-04, 9.06109035e-01, 9.27398205e-02, 1.48766244e-08,\n",
              "        2.59946287e-10, 9.03132197e-04, 2.84375619e-06],\n",
              "       [1.89196711e-04, 9.99447048e-01, 9.27342044e-05, 3.47304479e-07,\n",
              "        5.53147129e-06, 2.09313235e-04, 5.58958309e-05],\n",
              "       [2.89409719e-02, 6.15819804e-02, 5.59894502e-01, 1.48829669e-01,\n",
              "        3.01641803e-02, 1.27588540e-01, 4.30001430e-02],\n",
              "       [6.49097128e-05, 9.84914243e-01, 4.11937399e-05, 8.68114270e-03,\n",
              "        4.97868238e-03, 1.91047526e-04, 1.12878229e-03],\n",
              "       [3.04393412e-04, 2.25129683e-04, 3.03284905e-05, 2.56795320e-03,\n",
              "        7.25187010e-06, 5.82694216e-03, 9.91037965e-01],\n",
              "       [6.47483051e-01, 1.85055323e-02, 9.57892761e-02, 2.27416232e-02,\n",
              "        6.77409698e-04, 1.20670371e-01, 9.41328332e-02],\n",
              "       [3.53773089e-06, 9.52485442e-01, 4.72351387e-02, 9.62852997e-09,\n",
              "        1.99314172e-06, 2.69272481e-04, 4.50700190e-06],\n",
              "       [3.81046496e-02, 3.40151548e-01, 2.72987425e-01, 3.09335664e-02,\n",
              "        2.20799726e-02, 2.48129994e-01, 4.76129316e-02],\n",
              "       [2.80750240e-03, 1.65276349e-01, 2.22068485e-02, 1.20734543e-01,\n",
              "        4.56754267e-02, 2.28843197e-01, 4.14456099e-01],\n",
              "       [1.04760434e-02, 8.33833776e-03, 1.17707979e-02, 5.51342905e-01,\n",
              "        5.26859239e-02, 1.08029529e-01, 2.57356495e-01],\n",
              "       [9.99768674e-01, 2.31316488e-04, 8.59246185e-09, 2.89890012e-17,\n",
              "        8.42534491e-18, 2.29669560e-12, 3.49120073e-11],\n",
              "       [9.74990427e-02, 1.30930692e-01, 1.42928615e-01, 2.20320433e-01,\n",
              "        8.99258628e-02, 1.63500890e-01, 1.54894426e-01],\n",
              "       [3.46959084e-02, 6.22821860e-02, 4.93502557e-01, 1.27607462e-04,\n",
              "        9.01359235e-05, 4.09226924e-01, 7.46384103e-05],\n",
              "       [6.18160311e-06, 5.50128334e-06, 9.99893904e-01, 1.19929082e-05,\n",
              "        2.89020107e-07, 8.19886991e-05, 1.08116808e-07],\n",
              "       [4.91976403e-02, 8.80713105e-01, 2.66758371e-02, 9.48418304e-03,\n",
              "        6.44787261e-03, 2.31719930e-02, 4.30936040e-03],\n",
              "       [4.15298373e-09, 9.99999642e-01, 2.57152209e-07, 4.75122650e-11,\n",
              "        9.02007039e-13, 1.61852753e-07, 5.00790465e-10],\n",
              "       [1.43923055e-04, 7.57818250e-03, 8.17771070e-06, 1.01637279e-05,\n",
              "        2.32846394e-01, 6.99584838e-04, 7.58713543e-01],\n",
              "       [8.23691323e-07, 7.37525485e-10, 1.76742992e-06, 1.39861427e-07,\n",
              "        9.99997139e-01, 1.73077097e-09, 7.11149539e-08],\n",
              "       [1.94809865e-04, 3.98150925e-03, 1.85538564e-04, 2.63714433e-01,\n",
              "        1.35101816e-02, 5.03069535e-03, 7.13382900e-01],\n",
              "       [1.11403927e-01, 1.42478600e-01, 3.66765350e-01, 1.03376620e-01,\n",
              "        2.46147960e-02, 1.96260378e-01, 5.51002435e-02],\n",
              "       [2.69367266e-03, 5.70108555e-03, 3.28009459e-03, 2.08360683e-02,\n",
              "        4.62262280e-04, 6.28547510e-03, 9.60741282e-01],\n",
              "       [1.62859801e-02, 9.06187370e-02, 2.69260611e-02, 2.17985749e-01,\n",
              "        7.57337883e-02, 1.44512579e-01, 4.27937090e-01],\n",
              "       [1.44598819e-02, 7.26186335e-01, 1.31909770e-03, 1.30609423e-03,\n",
              "        1.26175536e-03, 2.36274242e-01, 1.91926677e-02],\n",
              "       [7.92953870e-07, 9.99998927e-01, 2.04404699e-07, 1.87763191e-15,\n",
              "        4.72533635e-16, 2.75470935e-08, 2.15223131e-15],\n",
              "       [4.42300006e-06, 1.52900412e-08, 2.19841422e-05, 9.78747606e-01,\n",
              "        2.07229611e-02, 6.33970121e-05, 4.39794210e-04],\n",
              "       [3.17350350e-04, 2.17067311e-04, 3.10408795e-05, 9.47389364e-01,\n",
              "        2.81255003e-02, 3.06036021e-03, 2.08592601e-02],\n",
              "       [1.41009024e-10, 2.23503700e-24, 3.11317027e-22, 2.96080604e-10,\n",
              "        9.99971628e-01, 1.44888533e-15, 2.83283098e-05],\n",
              "       [6.89285994e-02, 2.48060435e-01, 2.12854937e-01, 9.55262110e-02,\n",
              "        3.34730111e-02, 2.50284523e-01, 9.08722654e-02],\n",
              "       [8.85154843e-01, 2.38943822e-03, 2.79965461e-03, 4.58405204e-02,\n",
              "        6.85853278e-03, 1.68269640e-03, 5.52743301e-02],\n",
              "       [2.76579871e-03, 9.25249577e-01, 5.40527701e-03, 2.71105282e-02,\n",
              "        2.52576489e-02, 5.52604487e-03, 8.68498813e-03],\n",
              "       [2.12470870e-04, 1.91457458e-02, 4.71443459e-02, 2.22477453e-07,\n",
              "        9.18145382e-09, 9.33479905e-01, 1.72987602e-05],\n",
              "       [8.69155228e-02, 9.56030637e-02, 1.45153195e-01, 2.46490464e-01,\n",
              "        1.61092252e-01, 1.08391427e-01, 1.56354129e-01],\n",
              "       [8.73820158e-04, 1.74588457e-01, 5.04867919e-03, 1.21681404e-03,\n",
              "        1.73374242e-03, 8.05603027e-01, 1.09354528e-02],\n",
              "       [2.00797200e-01, 7.61996433e-02, 2.22523466e-01, 1.65372103e-01,\n",
              "        7.13929683e-02, 1.54280096e-01, 1.09434567e-01],\n",
              "       [6.43691397e-04, 4.19348624e-04, 3.83210390e-05, 2.71261582e-04,\n",
              "        9.72871065e-01, 1.28257961e-03, 2.44738013e-02],\n",
              "       [1.77734563e-11, 1.00000000e+00, 3.66831809e-13, 4.21118862e-21,\n",
              "        3.34022517e-25, 6.72890759e-25, 3.94808159e-23],\n",
              "       [1.14565564e-03, 9.92385268e-01, 6.46356540e-03, 4.65502990e-06,\n",
              "        1.43397916e-08, 2.24736254e-07, 6.83537053e-07],\n",
              "       [5.53538575e-06, 1.00211472e-09, 1.17798642e-08, 4.80985456e-08,\n",
              "        9.99894977e-01, 2.63515920e-09, 9.94572838e-05],\n",
              "       [4.67059948e-02, 2.10686952e-01, 1.44265890e-01, 6.87208539e-03,\n",
              "        2.51104822e-03, 5.87825596e-01, 1.13245356e-03],\n",
              "       [5.37006918e-06, 1.30661545e-06, 3.90677656e-07, 9.94476855e-01,\n",
              "        1.05878420e-03, 4.32415254e-05, 4.41399310e-03],\n",
              "       [8.89911200e-04, 5.01181066e-01, 4.97929096e-01, 6.29503502e-13,\n",
              "        2.65008386e-14, 5.72843861e-09, 8.53586841e-13],\n",
              "       [2.74786353e-01, 1.56319976e-01, 2.29500622e-01, 1.07703723e-01,\n",
              "        3.21803316e-02, 1.04991160e-01, 9.45179090e-02],\n",
              "       [1.65739030e-01, 2.89141417e-01, 3.75182480e-01, 2.01964122e-06,\n",
              "        2.07617522e-05, 1.69910461e-01, 3.83805173e-06],\n",
              "       [4.97940741e-02, 9.13010240e-02, 1.83885340e-02, 1.69438869e-01,\n",
              "        1.17871892e-02, 1.82799652e-01, 4.76490617e-01],\n",
              "       [1.57987559e-03, 1.73070910e-03, 5.38191409e-04, 3.97156090e-01,\n",
              "        5.19663021e-02, 7.51686108e-04, 5.46277165e-01],\n",
              "       [6.17564201e-01, 3.73196532e-03, 3.77036095e-01, 1.60557509e-03,\n",
              "        4.19197107e-07, 2.74787612e-06, 5.89328774e-05],\n",
              "       [6.48971909e-05, 2.20311165e-04, 9.99017835e-01, 1.06254911e-05,\n",
              "        1.83386055e-05, 5.48515585e-04, 1.19491531e-04],\n",
              "       [3.78315583e-08, 1.00000000e+00, 1.18852783e-09, 3.59561273e-19,\n",
              "        7.42024953e-20, 3.22750268e-12, 3.15052788e-18]], dtype=float32)"
            ]
          },
          "metadata": {},
          "execution_count": 121
        }
      ],
      "source": [
        "model1.predict(x_test)"
      ]
    },
    {
      "cell_type": "code",
      "execution_count": 126,
      "metadata": {
        "id": "M7-WliCOhea1"
      },
      "outputs": [],
      "source": [
        "# classes=['blue','change_color','green','high','low','noise','off','on','party','purple','red','sleep','unknown','wakeup','white','yellow']\n",
        "classes=['firefly', 'off', 'party', 'red', 'sleep', 'white', 'yellow']\n",
        "predictions=[classes[i] for i in np.argmax(model1.predict(x_test.reshape(len(x_test-1),128,44,1)),axis=1)]\n",
        "test_classes=[f.split('.')[0] for f in listdir(test_path) if isfile(join(test_path, f))]\n"
      ]
    },
    {
      "cell_type": "markdown",
      "source": [
        "# New Section"
      ],
      "metadata": {
        "id": "nzmoz8l17uhA"
      }
    },
    {
      "cell_type": "code",
      "source": [
        "mydf=pd.DataFrame(data={'real':test_classes, 'pred':predictions})"
      ],
      "metadata": {
        "id": "c799XcdCyQVY"
      },
      "execution_count": 127,
      "outputs": []
    },
    {
      "cell_type": "code",
      "execution_count": 73,
      "metadata": {
        "id": "PFhh3D67hea2",
        "colab": {
          "base_uri": "https://localhost:8080/",
          "height": 366
        },
        "outputId": "f2dd2a43-6cd7-4346-da1b-15ea23a17b86"
      },
      "outputs": [
        {
          "output_type": "execute_result",
          "data": {
            "text/plain": [
              "       real     pred\n",
              "0     white      red\n",
              "1     sleep    sleep\n",
              "2   firefly  firefly\n",
              "3   firefly  firefly\n",
              "4       red   yellow\n",
              "..      ...      ...\n",
              "56      off      off\n",
              "57    sleep    party\n",
              "58  firefly      off\n",
              "59    white    party\n",
              "60      off      off\n",
              "\n",
              "[61 rows x 2 columns]"
            ],
            "text/html": [
              "\n",
              "  <div id=\"df-82bc83dc-621a-416a-924d-4f0e9cd8dea9\">\n",
              "    <div class=\"colab-df-container\">\n",
              "      <div>\n",
              "<style scoped>\n",
              "    .dataframe tbody tr th:only-of-type {\n",
              "        vertical-align: middle;\n",
              "    }\n",
              "\n",
              "    .dataframe tbody tr th {\n",
              "        vertical-align: top;\n",
              "    }\n",
              "\n",
              "    .dataframe thead th {\n",
              "        text-align: right;\n",
              "    }\n",
              "</style>\n",
              "<table border=\"1\" class=\"dataframe\">\n",
              "  <thead>\n",
              "    <tr style=\"text-align: right;\">\n",
              "      <th></th>\n",
              "      <th>real</th>\n",
              "      <th>pred</th>\n",
              "    </tr>\n",
              "  </thead>\n",
              "  <tbody>\n",
              "    <tr>\n",
              "      <th>0</th>\n",
              "      <td>white</td>\n",
              "      <td>red</td>\n",
              "    </tr>\n",
              "    <tr>\n",
              "      <th>1</th>\n",
              "      <td>sleep</td>\n",
              "      <td>sleep</td>\n",
              "    </tr>\n",
              "    <tr>\n",
              "      <th>2</th>\n",
              "      <td>firefly</td>\n",
              "      <td>firefly</td>\n",
              "    </tr>\n",
              "    <tr>\n",
              "      <th>3</th>\n",
              "      <td>firefly</td>\n",
              "      <td>firefly</td>\n",
              "    </tr>\n",
              "    <tr>\n",
              "      <th>4</th>\n",
              "      <td>red</td>\n",
              "      <td>yellow</td>\n",
              "    </tr>\n",
              "    <tr>\n",
              "      <th>...</th>\n",
              "      <td>...</td>\n",
              "      <td>...</td>\n",
              "    </tr>\n",
              "    <tr>\n",
              "      <th>56</th>\n",
              "      <td>off</td>\n",
              "      <td>off</td>\n",
              "    </tr>\n",
              "    <tr>\n",
              "      <th>57</th>\n",
              "      <td>sleep</td>\n",
              "      <td>party</td>\n",
              "    </tr>\n",
              "    <tr>\n",
              "      <th>58</th>\n",
              "      <td>firefly</td>\n",
              "      <td>off</td>\n",
              "    </tr>\n",
              "    <tr>\n",
              "      <th>59</th>\n",
              "      <td>white</td>\n",
              "      <td>party</td>\n",
              "    </tr>\n",
              "    <tr>\n",
              "      <th>60</th>\n",
              "      <td>off</td>\n",
              "      <td>off</td>\n",
              "    </tr>\n",
              "  </tbody>\n",
              "</table>\n",
              "<p>61 rows × 2 columns</p>\n",
              "</div>\n",
              "      <button class=\"colab-df-convert\" onclick=\"convertToInteractive('df-82bc83dc-621a-416a-924d-4f0e9cd8dea9')\"\n",
              "              title=\"Convert this dataframe to an interactive table.\"\n",
              "              style=\"display:none;\">\n",
              "        \n",
              "  <svg xmlns=\"http://www.w3.org/2000/svg\" height=\"24px\"viewBox=\"0 0 24 24\"\n",
              "       width=\"24px\">\n",
              "    <path d=\"M0 0h24v24H0V0z\" fill=\"none\"/>\n",
              "    <path d=\"M18.56 5.44l.94 2.06.94-2.06 2.06-.94-2.06-.94-.94-2.06-.94 2.06-2.06.94zm-11 1L8.5 8.5l.94-2.06 2.06-.94-2.06-.94L8.5 2.5l-.94 2.06-2.06.94zm10 10l.94 2.06.94-2.06 2.06-.94-2.06-.94-.94-2.06-.94 2.06-2.06.94z\"/><path d=\"M17.41 7.96l-1.37-1.37c-.4-.4-.92-.59-1.43-.59-.52 0-1.04.2-1.43.59L10.3 9.45l-7.72 7.72c-.78.78-.78 2.05 0 2.83L4 21.41c.39.39.9.59 1.41.59.51 0 1.02-.2 1.41-.59l7.78-7.78 2.81-2.81c.8-.78.8-2.07 0-2.86zM5.41 20L4 18.59l7.72-7.72 1.47 1.35L5.41 20z\"/>\n",
              "  </svg>\n",
              "      </button>\n",
              "      \n",
              "  <style>\n",
              "    .colab-df-container {\n",
              "      display:flex;\n",
              "      flex-wrap:wrap;\n",
              "      gap: 12px;\n",
              "    }\n",
              "\n",
              "    .colab-df-convert {\n",
              "      background-color: #E8F0FE;\n",
              "      border: none;\n",
              "      border-radius: 50%;\n",
              "      cursor: pointer;\n",
              "      display: none;\n",
              "      fill: #1967D2;\n",
              "      height: 32px;\n",
              "      padding: 0 0 0 0;\n",
              "      width: 32px;\n",
              "    }\n",
              "\n",
              "    .colab-df-convert:hover {\n",
              "      background-color: #E2EBFA;\n",
              "      box-shadow: 0px 1px 2px rgba(60, 64, 67, 0.3), 0px 1px 3px 1px rgba(60, 64, 67, 0.15);\n",
              "      fill: #174EA6;\n",
              "    }\n",
              "\n",
              "    [theme=dark] .colab-df-convert {\n",
              "      background-color: #3B4455;\n",
              "      fill: #D2E3FC;\n",
              "    }\n",
              "\n",
              "    [theme=dark] .colab-df-convert:hover {\n",
              "      background-color: #434B5C;\n",
              "      box-shadow: 0px 1px 3px 1px rgba(0, 0, 0, 0.15);\n",
              "      filter: drop-shadow(0px 1px 2px rgba(0, 0, 0, 0.3));\n",
              "      fill: #FFFFFF;\n",
              "    }\n",
              "  </style>\n",
              "\n",
              "      <script>\n",
              "        const buttonEl =\n",
              "          document.querySelector('#df-82bc83dc-621a-416a-924d-4f0e9cd8dea9 button.colab-df-convert');\n",
              "        buttonEl.style.display =\n",
              "          google.colab.kernel.accessAllowed ? 'block' : 'none';\n",
              "\n",
              "        async function convertToInteractive(key) {\n",
              "          const element = document.querySelector('#df-82bc83dc-621a-416a-924d-4f0e9cd8dea9');\n",
              "          const dataTable =\n",
              "            await google.colab.kernel.invokeFunction('convertToInteractive',\n",
              "                                                     [key], {});\n",
              "          if (!dataTable) return;\n",
              "\n",
              "          const docLinkHtml = 'Like what you see? Visit the ' +\n",
              "            '<a target=\"_blank\" href=https://colab.research.google.com/notebooks/data_table.ipynb>data table notebook</a>'\n",
              "            + ' to learn more about interactive tables.';\n",
              "          element.innerHTML = '';\n",
              "          dataTable['output_type'] = 'display_data';\n",
              "          await google.colab.output.renderOutput(dataTable, element);\n",
              "          const docLink = document.createElement('div');\n",
              "          docLink.innerHTML = docLinkHtml;\n",
              "          element.appendChild(docLink);\n",
              "        }\n",
              "      </script>\n",
              "    </div>\n",
              "  </div>\n",
              "  "
            ]
          },
          "metadata": {},
          "execution_count": 73
        }
      ],
      "source": [
        "mydf"
      ]
    },
    {
      "cell_type": "code",
      "execution_count": 74,
      "metadata": {
        "id": "VoFC6zlohea2"
      },
      "outputs": [],
      "source": [
        "def predictSound(soundFile):\n",
        "    x=features_extractorcnn(soundFile)\n",
        "    i=np.argmax(model1.predict(x[np.newaxis,...]))\n",
        "    return classes[i]\n",
        "    "
      ]
    },
    {
      "cell_type": "code",
      "execution_count": 75,
      "metadata": {
        "id": "3bYY1Dznhea2",
        "colab": {
          "base_uri": "https://localhost:8080/",
          "height": 34
        },
        "outputId": "152d1616-06b8-4acb-e536-57e9142a696c"
      },
      "outputs": [
        {
          "output_type": "execute_result",
          "data": {
            "text/plain": [
              "'white'"
            ],
            "application/vnd.google.colaboratory.intrinsic+json": {
              "type": "string"
            }
          },
          "metadata": {},
          "execution_count": 75
        }
      ],
      "source": [
        "predictSound('/content/sample_data/data/test2/white.2v6al0un.ingestion-7558d88f45-k9jh8.wav')"
      ]
    },
    {
      "cell_type": "code",
      "source": [
        "from io import BytesIO\n",
        "from base64 import b64decode\n",
        "from google.colab import output\n",
        "import IPython.display as ipd\n",
        "\n",
        "from IPython.display import Javascript\n",
        "\n",
        "\n",
        "def record(sec=1):\n",
        "  RECORD = \"\"\"\n",
        "const sleep  = time => new Promise(resolve => setTimeout(resolve, time))\n",
        "const b2text = blob => new Promise(resolve => {\n",
        "  const reader = new FileReader()\n",
        "  reader.onloadend = e => resolve(e.srcElement.result)\n",
        "  reader.readAsDataURL(blob)\n",
        "})\n",
        "var record = time => new Promise(async resolve => {\n",
        "  stream = await navigator.mediaDevices.getUserMedia({ audio: true })\n",
        "  recorder = new MediaRecorder(stream)\n",
        "  chunks = []\n",
        "  recorder.ondataavailable = e => chunks.push(e.data)\n",
        "  recorder.start()\n",
        "  await sleep(time)\n",
        "  recorder.onstop = async ()=>{\n",
        "    blob = new Blob(chunks)\n",
        "    text = await b2text(blob)\n",
        "    resolve(text)\n",
        "  }\n",
        "  recorder.stop()\n",
        "})\n",
        "\"\"\"\n",
        "  print(\"Speak Now...\")\n",
        "  display(Javascript(RECORD))\n",
        "  # sec += 0.03\n",
        "  sec += 1.0\n",
        "  s = output.eval_js('record(%d)' % (sec*1000))\n",
        "  print(\"Done Recording !\")\n",
        "  b = b64decode(s.split(',')[1])\n",
        "  ipd.display(ipd.Audio(b))\n",
        "  with open('audio.wav','wb') as f:\n",
        "    f.write(b)\n",
        "  audio, sample_rate = librosa.load('audio.wav')\n",
        "  os.remove(\"audio.wav\") \n",
        "  mfccs_features =librosa.feature.melspectrogram(y=audio[200:22250],sr=sample_rate)\n",
        "  return mfccs_features.reshape(128,44,1)"
      ],
      "metadata": {
        "id": "_xgLBM9FykX8"
      },
      "execution_count": 76,
      "outputs": []
    },
    {
      "cell_type": "code",
      "source": [
        "def predictRecord():   \n",
        "    x=record() \n",
        "    i=np.argmax(model1.predict(x[np.newaxis,...]))\n",
        "    return classes[i]"
      ],
      "metadata": {
        "id": "ZLtCP3Feynmt"
      },
      "execution_count": 128,
      "outputs": []
    },
    {
      "cell_type": "code",
      "source": [
        "predictRecord()"
      ],
      "metadata": {
        "colab": {
          "base_uri": "https://localhost:8080/",
          "height": 162
        },
        "id": "untjZ8Ngy8G7",
        "outputId": "e4c79e56-a00b-4953-d4cc-7554cf4ac4e4"
      },
      "execution_count": 129,
      "outputs": [
        {
          "output_type": "stream",
          "name": "stdout",
          "text": [
            "Speak Now...\n"
          ]
        },
        {
          "output_type": "display_data",
          "data": {
            "text/plain": [
              "<IPython.core.display.Javascript object>"
            ],
            "application/javascript": [
              "\n",
              "const sleep  = time => new Promise(resolve => setTimeout(resolve, time))\n",
              "const b2text = blob => new Promise(resolve => {\n",
              "  const reader = new FileReader()\n",
              "  reader.onloadend = e => resolve(e.srcElement.result)\n",
              "  reader.readAsDataURL(blob)\n",
              "})\n",
              "var record = time => new Promise(async resolve => {\n",
              "  stream = await navigator.mediaDevices.getUserMedia({ audio: true })\n",
              "  recorder = new MediaRecorder(stream)\n",
              "  chunks = []\n",
              "  recorder.ondataavailable = e => chunks.push(e.data)\n",
              "  recorder.start()\n",
              "  await sleep(time)\n",
              "  recorder.onstop = async ()=>{\n",
              "    blob = new Blob(chunks)\n",
              "    text = await b2text(blob)\n",
              "    resolve(text)\n",
              "  }\n",
              "  recorder.stop()\n",
              "})\n"
            ]
          },
          "metadata": {}
        },
        {
          "output_type": "stream",
          "name": "stdout",
          "text": [
            "Done Recording !\n"
          ]
        },
        {
          "output_type": "display_data",
          "data": {
            "text/plain": [
              "<IPython.lib.display.Audio object>"
            ],
            "text/html": [
              "\n",
              "                <audio controls=\"controls\" >\n",
              "                    <source src=\"data:audio/wav;base64,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\" type=\"audio/wav\" />\n",
              "                    Your browser does not support the audio element.\n",
              "                </audio>\n",
              "              "
            ]
          },
          "metadata": {}
        },
        {
          "output_type": "stream",
          "name": "stderr",
          "text": [
            "/usr/local/lib/python3.7/dist-packages/librosa/core/audio.py:165: UserWarning: PySoundFile failed. Trying audioread instead.\n",
            "  warnings.warn(\"PySoundFile failed. Trying audioread instead.\")\n"
          ]
        },
        {
          "output_type": "execute_result",
          "data": {
            "text/plain": [
              "'yellow'"
            ],
            "application/vnd.google.colaboratory.intrinsic+json": {
              "type": "string"
            }
          },
          "metadata": {},
          "execution_count": 129
        }
      ]
    }
  ],
  "metadata": {
    "kernelspec": {
      "display_name": "Python 3",
      "language": "python",
      "name": "python3"
    },
    "language_info": {
      "codemirror_mode": {
        "name": "ipython",
        "version": 3
      },
      "file_extension": ".py",
      "mimetype": "text/x-python",
      "name": "python",
      "nbconvert_exporter": "python",
      "pygments_lexer": "ipython3",
      "version": "3.8.5"
    },
    "colab": {
      "name": "CNN model.ipynb",
      "provenance": [],
      "collapsed_sections": []
    }
  },
  "nbformat": 4,
  "nbformat_minor": 0
}