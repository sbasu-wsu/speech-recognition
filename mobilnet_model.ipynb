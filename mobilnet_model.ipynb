{
  "cells": [
    {
      "cell_type": "code",
      "source": [
        "import tensorflow as tf\n",
        "from tensorflow import keras\n",
        "from tensorflow.keras import layers,Model\n",
        "from keras.layers import Activation, Dense,Conv2D,Dropout,Activation,Flatten,MaxPooling2D\n",
        "from tensorflow.keras.models import Sequential\n",
        "import imblearn\n",
        "from imblearn.over_sampling import RandomOverSampler,SMOTE\n",
        "import pandas as pd\n",
        "import numpy as np\n",
        "import os\n",
        "from os import listdir\n",
        "from os.path import isfile, join\n",
        "import librosa\n",
        "from sklearn.model_selection import train_test_split\n",
        "\n",
        "import numpy as np\n",
        "import scipy.io.wavfile as wav\n",
        "from scipy.io.wavfile import write\n",
        "from io import BytesIO\n",
        "from base64 import b64decode\n",
        "from google.colab import output\n",
        "import IPython.display as ipd\n",
        "\n",
        "from IPython.display import Javascript\n",
        "\n",
        "\n",
        "\n"
      ],
      "metadata": {
        "id": "h5KCpIb7yTYT"
      },
      "execution_count": 1,
      "outputs": []
    },
    {
      "cell_type": "code",
      "execution_count": 17,
      "metadata": {
        "id": "4cKuh0oFX25l"
      },
      "outputs": [],
      "source": [
        "train_path='/content/sample_data/train/'\n",
        "test_path='/content/sample_data/test/'\n",
        "model_path='D:\\\\upwork\\\\New folder (2)\\\\audio_classification'\n",
        "# classes=['blue','change_color','green','high','low','noise','off','on','party','purple','red','sleep','unknown','wakeup','white','yellow']\n",
        "classes=['firefly', 'off', 'party', 'red', 'sleep', 'white', 'yellow']"
      ]
    },
    {
      "cell_type": "code",
      "source": [
        "len(classes)"
      ],
      "metadata": {
        "colab": {
          "base_uri": "https://localhost:8080/"
        },
        "id": "1C4Iz7Epzmmj",
        "outputId": "b0fc74e6-6ada-4251-afa1-342dfb2c3e8a"
      },
      "execution_count": 11,
      "outputs": [
        {
          "output_type": "execute_result",
          "data": {
            "text/plain": [
              "7"
            ]
          },
          "metadata": {},
          "execution_count": 11
        }
      ]
    },
    {
      "cell_type": "code",
      "execution_count": 18,
      "metadata": {
        "id": "Ebq_iiMqX25m"
      },
      "outputs": [],
      "source": [
        "def features_extractorcnn(file_name):\n",
        "    audio, sample_rate = librosa.load(file_name) \n",
        "    mfccs_features =librosa.feature.melspectrogram(y=audio,sr=sample_rate)\n",
        "    #mfccs_scaled_features = np.mean(mfccs_features.T,axis=0)\n",
        "    \n",
        "    return mfccs_features.reshape(128,44,1)"
      ]
    },
    {
      "cell_type": "code",
      "source": [
        "x=np.array([features_extractorcnn(train_path+'/'+f) for f in listdir(train_path) if isfile(join(train_path, f))])\n",
        "x_test=np.array([features_extractorcnn(test_path+'/'+f) for f in listdir(test_path) if isfile(join(test_path, f))])"
      ],
      "metadata": {
        "id": "2BJPGX3Ry42A"
      },
      "execution_count": 21,
      "outputs": []
    },
    {
      "cell_type": "code",
      "execution_count": 22,
      "metadata": {
        "id": "2ZH6rQo-X25o"
      },
      "outputs": [],
      "source": [
        "y=np.array([f.split('.')[0] for f in listdir(train_path) if isfile(join(train_path, f))])\n",
        "y=np.array(pd.get_dummies(y))\n"
      ]
    },
    {
      "cell_type": "code",
      "source": [
        "y.shape"
      ],
      "metadata": {
        "colab": {
          "base_uri": "https://localhost:8080/"
        },
        "id": "xNSxxVZR0EFD",
        "outputId": "6a5d2ad4-c5d9-4ff2-ace4-e514b644fc05"
      },
      "execution_count": 23,
      "outputs": [
        {
          "output_type": "execute_result",
          "data": {
            "text/plain": [
              "(448, 7)"
            ]
          },
          "metadata": {},
          "execution_count": 23
        }
      ]
    },
    {
      "cell_type": "code",
      "execution_count": 24,
      "metadata": {
        "id": "7h5cgyqIX25p"
      },
      "outputs": [],
      "source": [
        "x_train,x_val,y_train,y_val=train_test_split(x,y,test_size=0.2,random_state=0)"
      ]
    },
    {
      "cell_type": "code",
      "execution_count": 25,
      "metadata": {
        "id": "xR_DmqHfX25p"
      },
      "outputs": [],
      "source": [
        "oversample = RandomOverSampler(sampling_strategy='minority')\n",
        "#x_over, y_over = oversample.fit_resample(x_train, y_train)\n",
        "x_over, y_over = oversample.fit_resample(x_train.reshape(len(x_train),-1), y_train)\n",
        "x_over=x_over.reshape(len(x_over),128,44,1)\n"
      ]
    },
    {
      "cell_type": "code",
      "source": [
        "y_over.shape"
      ],
      "metadata": {
        "colab": {
          "base_uri": "https://localhost:8080/"
        },
        "id": "JctEsSSQ3CWn",
        "outputId": "808080b2-2452-4781-c2a0-3de6a17d897a"
      },
      "execution_count": 26,
      "outputs": [
        {
          "output_type": "execute_result",
          "data": {
            "text/plain": [
              "(386, 7)"
            ]
          },
          "metadata": {},
          "execution_count": 26
        }
      ]
    },
    {
      "cell_type": "code",
      "execution_count": 89,
      "metadata": {
        "id": "7zv0gn3pX25q",
        "outputId": "e0fd0863-9524-48c9-d4e3-19ba496f9776",
        "colab": {
          "base_uri": "https://localhost:8080/"
        }
      },
      "outputs": [
        {
          "output_type": "stream",
          "name": "stdout",
          "text": [
            "Epoch 1/7\n",
            "12/12 [==============================] - 2s 56ms/step - loss: 1.9442 - accuracy: 0.1453 - val_loss: 1.9408 - val_accuracy: 0.1778\n",
            "Epoch 2/7\n",
            "12/12 [==============================] - 0s 16ms/step - loss: 1.9399 - accuracy: 0.1899 - val_loss: 1.9377 - val_accuracy: 0.1889\n",
            "Epoch 3/7\n",
            "12/12 [==============================] - 0s 18ms/step - loss: 1.9367 - accuracy: 0.1844 - val_loss: 1.9351 - val_accuracy: 0.1889\n",
            "Epoch 4/7\n",
            "12/12 [==============================] - 0s 16ms/step - loss: 1.9332 - accuracy: 0.1844 - val_loss: 1.9326 - val_accuracy: 0.1889\n",
            "Epoch 5/7\n",
            "12/12 [==============================] - 0s 13ms/step - loss: 1.9308 - accuracy: 0.1844 - val_loss: 1.9306 - val_accuracy: 0.1889\n",
            "Epoch 6/7\n",
            "12/12 [==============================] - 0s 13ms/step - loss: 1.9297 - accuracy: 0.1844 - val_loss: 1.9295 - val_accuracy: 0.1889\n",
            "Epoch 7/7\n",
            "12/12 [==============================] - 0s 14ms/step - loss: 1.9286 - accuracy: 0.1844 - val_loss: 1.9282 - val_accuracy: 0.1889\n"
          ]
        },
        {
          "output_type": "execute_result",
          "data": {
            "text/plain": [
              "<keras.callbacks.History at 0x7fd484549690>"
            ]
          },
          "metadata": {},
          "execution_count": 89
        }
      ],
      "source": [
        "callback = tf.keras.callbacks.EarlyStopping(monitor='val_accuracy', patience=3)\n",
        "\n",
        "\n",
        "mobile=tf.keras.applications.mobilenet.MobileNet( input_shape=(128,44,1),include_top=False,weights=None)\n",
        "x=mobile.layers[-1].output\n",
        "output=Dense(units=512,activation=\"softmax\")(x)\n",
        "mobilnet_model=Model(inputs=mobile.input,outputs=output)\n",
        "for layer in mobilnet_model.layers[:-1]:\n",
        "    layer.trainable=False\n",
        "\n",
        "mobilnet_model = keras.models.Sequential([\n",
        "    mobilnet_model,\n",
        "    layers.Flatten(),\n",
        "    # tf.keras.layers.GlobalAveragePooling2D(),\n",
        "    # keras.layers.Dropout(0.35),\n",
        "    # keras.layers.Dense(128, activation='relu'),\n",
        "     keras.layers.Dropout(0.35),\n",
        "     keras.layers.Dense(7, activation='softmax')                                        \n",
        "])\n",
        "mobilnet_model.compile(optimizer='adam',\n",
        "            loss='categorical_crossentropy',\n",
        "            metrics=['accuracy'])\n",
        "mobilnet_model.fit(x_train,y_train, epochs=7, validation_data=(x_val, y_val))#,callbacks=[callback]\n"
      ]
    },
    {
      "cell_type": "code",
      "execution_count": null,
      "metadata": {
        "id": "p5R-Q-n6X25r"
      },
      "outputs": [],
      "source": [
        ""
      ]
    },
    {
      "cell_type": "code",
      "execution_count": 90,
      "metadata": {
        "id": "IrMu5RolX25r",
        "outputId": "59cb20a8-3fac-4a27-8142-7d33df81625e",
        "colab": {
          "base_uri": "https://localhost:8080/"
        }
      },
      "outputs": [
        {
          "output_type": "execute_result",
          "data": {
            "text/plain": [
              "array([[0.12139317, 0.1664863 , 0.14855033, 0.14388622, 0.124913  ,\n",
              "        0.12955   , 0.16522093],\n",
              "       [0.12139317, 0.1664863 , 0.14855033, 0.14388622, 0.124913  ,\n",
              "        0.12955   , 0.16522093],\n",
              "       [0.12139317, 0.1664863 , 0.14855033, 0.14388622, 0.124913  ,\n",
              "        0.12955   , 0.16522093],\n",
              "       [0.12139317, 0.1664863 , 0.14855033, 0.14388622, 0.124913  ,\n",
              "        0.12955   , 0.16522093],\n",
              "       [0.12139317, 0.1664863 , 0.14855033, 0.14388622, 0.124913  ,\n",
              "        0.12955   , 0.16522093],\n",
              "       [0.12139317, 0.1664863 , 0.14855033, 0.14388622, 0.124913  ,\n",
              "        0.12955   , 0.16522093],\n",
              "       [0.12139317, 0.1664863 , 0.14855033, 0.14388622, 0.124913  ,\n",
              "        0.12955   , 0.16522093],\n",
              "       [0.12139317, 0.1664863 , 0.14855033, 0.14388622, 0.124913  ,\n",
              "        0.12955   , 0.16522093],\n",
              "       [0.12139317, 0.1664863 , 0.14855033, 0.14388622, 0.124913  ,\n",
              "        0.12955   , 0.16522093],\n",
              "       [0.12139317, 0.1664863 , 0.14855033, 0.14388622, 0.124913  ,\n",
              "        0.12955   , 0.16522093],\n",
              "       [0.12139317, 0.1664863 , 0.14855033, 0.14388622, 0.124913  ,\n",
              "        0.12955   , 0.16522093],\n",
              "       [0.12139317, 0.1664863 , 0.14855033, 0.14388622, 0.124913  ,\n",
              "        0.12955   , 0.16522093],\n",
              "       [0.12139317, 0.1664863 , 0.14855033, 0.14388622, 0.124913  ,\n",
              "        0.12955   , 0.16522093],\n",
              "       [0.12139317, 0.1664863 , 0.14855033, 0.14388622, 0.124913  ,\n",
              "        0.12955   , 0.16522093],\n",
              "       [0.12139317, 0.1664863 , 0.14855033, 0.14388622, 0.124913  ,\n",
              "        0.12955   , 0.16522093],\n",
              "       [0.12139317, 0.1664863 , 0.14855033, 0.14388622, 0.124913  ,\n",
              "        0.12955   , 0.16522093],\n",
              "       [0.12139317, 0.1664863 , 0.14855033, 0.14388622, 0.124913  ,\n",
              "        0.12955   , 0.16522093],\n",
              "       [0.12139317, 0.1664863 , 0.14855033, 0.14388622, 0.124913  ,\n",
              "        0.12955   , 0.16522093],\n",
              "       [0.12139317, 0.1664863 , 0.14855033, 0.14388622, 0.124913  ,\n",
              "        0.12955   , 0.16522093],\n",
              "       [0.12139317, 0.1664863 , 0.14855033, 0.14388622, 0.124913  ,\n",
              "        0.12955   , 0.16522093],\n",
              "       [0.12139317, 0.1664863 , 0.14855033, 0.14388622, 0.124913  ,\n",
              "        0.12955   , 0.16522093],\n",
              "       [0.12139317, 0.1664863 , 0.14855033, 0.14388622, 0.124913  ,\n",
              "        0.12955   , 0.16522093],\n",
              "       [0.12139317, 0.1664863 , 0.14855033, 0.14388622, 0.124913  ,\n",
              "        0.12955   , 0.16522093],\n",
              "       [0.12139317, 0.1664863 , 0.14855033, 0.14388622, 0.124913  ,\n",
              "        0.12955   , 0.16522093],\n",
              "       [0.12139317, 0.1664863 , 0.14855033, 0.14388622, 0.124913  ,\n",
              "        0.12955   , 0.16522093],\n",
              "       [0.12139317, 0.1664863 , 0.14855033, 0.14388622, 0.124913  ,\n",
              "        0.12955   , 0.16522093],\n",
              "       [0.12139317, 0.1664863 , 0.14855033, 0.14388622, 0.124913  ,\n",
              "        0.12955   , 0.16522093],\n",
              "       [0.12139317, 0.1664863 , 0.14855033, 0.14388622, 0.124913  ,\n",
              "        0.12955   , 0.16522093],\n",
              "       [0.12139317, 0.1664863 , 0.14855033, 0.14388622, 0.124913  ,\n",
              "        0.12955   , 0.16522093],\n",
              "       [0.12139317, 0.1664863 , 0.14855033, 0.14388622, 0.124913  ,\n",
              "        0.12955   , 0.16522093],\n",
              "       [0.12139317, 0.1664863 , 0.14855033, 0.14388622, 0.124913  ,\n",
              "        0.12955   , 0.16522093],\n",
              "       [0.12139317, 0.1664863 , 0.14855033, 0.14388622, 0.124913  ,\n",
              "        0.12955   , 0.16522093],\n",
              "       [0.12139317, 0.1664863 , 0.14855033, 0.14388622, 0.124913  ,\n",
              "        0.12955   , 0.16522093],\n",
              "       [0.12139317, 0.1664863 , 0.14855033, 0.14388622, 0.124913  ,\n",
              "        0.12955   , 0.16522093],\n",
              "       [0.12139317, 0.1664863 , 0.14855033, 0.14388622, 0.124913  ,\n",
              "        0.12955   , 0.16522093],\n",
              "       [0.12139317, 0.1664863 , 0.14855033, 0.14388622, 0.124913  ,\n",
              "        0.12955   , 0.16522093],\n",
              "       [0.12139317, 0.1664863 , 0.14855033, 0.14388622, 0.124913  ,\n",
              "        0.12955   , 0.16522093],\n",
              "       [0.12139317, 0.1664863 , 0.14855033, 0.14388622, 0.124913  ,\n",
              "        0.12955   , 0.16522093],\n",
              "       [0.12139317, 0.1664863 , 0.14855033, 0.14388622, 0.124913  ,\n",
              "        0.12955   , 0.16522093],\n",
              "       [0.12139317, 0.1664863 , 0.14855033, 0.14388622, 0.124913  ,\n",
              "        0.12955   , 0.16522093],\n",
              "       [0.12139317, 0.1664863 , 0.14855033, 0.14388622, 0.124913  ,\n",
              "        0.12955   , 0.16522093],\n",
              "       [0.12139317, 0.1664863 , 0.14855033, 0.14388622, 0.124913  ,\n",
              "        0.12955   , 0.16522093],\n",
              "       [0.12139317, 0.1664863 , 0.14855033, 0.14388622, 0.124913  ,\n",
              "        0.12955   , 0.16522093],\n",
              "       [0.12139317, 0.1664863 , 0.14855033, 0.14388622, 0.124913  ,\n",
              "        0.12955   , 0.16522093],\n",
              "       [0.12139317, 0.1664863 , 0.14855033, 0.14388622, 0.124913  ,\n",
              "        0.12955   , 0.16522093],\n",
              "       [0.12139317, 0.1664863 , 0.14855033, 0.14388622, 0.124913  ,\n",
              "        0.12955   , 0.16522093],\n",
              "       [0.12139317, 0.1664863 , 0.14855033, 0.14388622, 0.124913  ,\n",
              "        0.12955   , 0.16522093],\n",
              "       [0.12139317, 0.1664863 , 0.14855033, 0.14388622, 0.124913  ,\n",
              "        0.12955   , 0.16522093],\n",
              "       [0.12139317, 0.1664863 , 0.14855033, 0.14388622, 0.124913  ,\n",
              "        0.12955   , 0.16522093],\n",
              "       [0.12139317, 0.1664863 , 0.14855033, 0.14388622, 0.124913  ,\n",
              "        0.12955   , 0.16522093],\n",
              "       [0.12139317, 0.1664863 , 0.14855033, 0.14388622, 0.124913  ,\n",
              "        0.12955   , 0.16522093],\n",
              "       [0.12139317, 0.1664863 , 0.14855033, 0.14388622, 0.124913  ,\n",
              "        0.12955   , 0.16522093],\n",
              "       [0.12139317, 0.1664863 , 0.14855033, 0.14388622, 0.124913  ,\n",
              "        0.12955   , 0.16522093],\n",
              "       [0.12139317, 0.1664863 , 0.14855033, 0.14388622, 0.124913  ,\n",
              "        0.12955   , 0.16522093],\n",
              "       [0.12139317, 0.1664863 , 0.14855033, 0.14388622, 0.124913  ,\n",
              "        0.12955   , 0.16522093],\n",
              "       [0.12139317, 0.1664863 , 0.14855033, 0.14388622, 0.124913  ,\n",
              "        0.12955   , 0.16522093],\n",
              "       [0.12139317, 0.1664863 , 0.14855033, 0.14388622, 0.124913  ,\n",
              "        0.12955   , 0.16522093],\n",
              "       [0.12139317, 0.1664863 , 0.14855033, 0.14388622, 0.124913  ,\n",
              "        0.12955   , 0.16522093],\n",
              "       [0.12139317, 0.1664863 , 0.14855033, 0.14388622, 0.124913  ,\n",
              "        0.12955   , 0.16522093],\n",
              "       [0.12139317, 0.1664863 , 0.14855033, 0.14388622, 0.124913  ,\n",
              "        0.12955   , 0.16522093],\n",
              "       [0.12139317, 0.1664863 , 0.14855033, 0.14388622, 0.124913  ,\n",
              "        0.12955   , 0.16522093],\n",
              "       [0.12139317, 0.1664863 , 0.14855033, 0.14388622, 0.124913  ,\n",
              "        0.12955   , 0.16522093],\n",
              "       [0.12139317, 0.1664863 , 0.14855033, 0.14388622, 0.124913  ,\n",
              "        0.12955   , 0.16522093],\n",
              "       [0.12139317, 0.1664863 , 0.14855033, 0.14388622, 0.124913  ,\n",
              "        0.12955   , 0.16522093],\n",
              "       [0.12139317, 0.1664863 , 0.14855033, 0.14388622, 0.124913  ,\n",
              "        0.12955   , 0.16522093],\n",
              "       [0.12139317, 0.1664863 , 0.14855033, 0.14388622, 0.124913  ,\n",
              "        0.12955   , 0.16522093],\n",
              "       [0.12139317, 0.1664863 , 0.14855033, 0.14388622, 0.124913  ,\n",
              "        0.12955   , 0.16522093],\n",
              "       [0.12139317, 0.1664863 , 0.14855033, 0.14388622, 0.124913  ,\n",
              "        0.12955   , 0.16522093],\n",
              "       [0.12139317, 0.1664863 , 0.14855033, 0.14388622, 0.124913  ,\n",
              "        0.12955   , 0.16522093],\n",
              "       [0.12139317, 0.1664863 , 0.14855033, 0.14388622, 0.124913  ,\n",
              "        0.12955   , 0.16522093],\n",
              "       [0.12139317, 0.1664863 , 0.14855033, 0.14388622, 0.124913  ,\n",
              "        0.12955   , 0.16522093],\n",
              "       [0.12139317, 0.1664863 , 0.14855033, 0.14388622, 0.124913  ,\n",
              "        0.12955   , 0.16522093],\n",
              "       [0.12139317, 0.1664863 , 0.14855033, 0.14388622, 0.124913  ,\n",
              "        0.12955   , 0.16522093],\n",
              "       [0.12139317, 0.1664863 , 0.14855033, 0.14388622, 0.124913  ,\n",
              "        0.12955   , 0.16522093],\n",
              "       [0.12139317, 0.1664863 , 0.14855033, 0.14388622, 0.124913  ,\n",
              "        0.12955   , 0.16522093],\n",
              "       [0.12139317, 0.1664863 , 0.14855033, 0.14388622, 0.124913  ,\n",
              "        0.12955   , 0.16522093],\n",
              "       [0.12139317, 0.1664863 , 0.14855033, 0.14388622, 0.124913  ,\n",
              "        0.12955   , 0.16522093],\n",
              "       [0.12139317, 0.1664863 , 0.14855033, 0.14388622, 0.124913  ,\n",
              "        0.12955   , 0.16522093],\n",
              "       [0.12139317, 0.1664863 , 0.14855033, 0.14388622, 0.124913  ,\n",
              "        0.12955   , 0.16522093],\n",
              "       [0.12139317, 0.1664863 , 0.14855033, 0.14388622, 0.124913  ,\n",
              "        0.12955   , 0.16522093],\n",
              "       [0.12139317, 0.1664863 , 0.14855033, 0.14388622, 0.124913  ,\n",
              "        0.12955   , 0.16522093],\n",
              "       [0.12139317, 0.1664863 , 0.14855033, 0.14388622, 0.124913  ,\n",
              "        0.12955   , 0.16522093],\n",
              "       [0.12139317, 0.1664863 , 0.14855033, 0.14388622, 0.124913  ,\n",
              "        0.12955   , 0.16522093],\n",
              "       [0.12139317, 0.1664863 , 0.14855033, 0.14388622, 0.124913  ,\n",
              "        0.12955   , 0.16522093],\n",
              "       [0.12139317, 0.1664863 , 0.14855033, 0.14388622, 0.124913  ,\n",
              "        0.12955   , 0.16522093],\n",
              "       [0.12139317, 0.1664863 , 0.14855033, 0.14388622, 0.124913  ,\n",
              "        0.12955   , 0.16522093],\n",
              "       [0.12139317, 0.1664863 , 0.14855033, 0.14388622, 0.124913  ,\n",
              "        0.12955   , 0.16522093],\n",
              "       [0.12139317, 0.1664863 , 0.14855033, 0.14388622, 0.124913  ,\n",
              "        0.12955   , 0.16522093],\n",
              "       [0.12139317, 0.1664863 , 0.14855033, 0.14388622, 0.124913  ,\n",
              "        0.12955   , 0.16522093],\n",
              "       [0.12139317, 0.1664863 , 0.14855033, 0.14388622, 0.124913  ,\n",
              "        0.12955   , 0.16522093],\n",
              "       [0.12139317, 0.1664863 , 0.14855033, 0.14388622, 0.124913  ,\n",
              "        0.12955   , 0.16522093],\n",
              "       [0.12139317, 0.1664863 , 0.14855033, 0.14388622, 0.124913  ,\n",
              "        0.12955   , 0.16522093],\n",
              "       [0.12139317, 0.1664863 , 0.14855033, 0.14388622, 0.124913  ,\n",
              "        0.12955   , 0.16522093],\n",
              "       [0.12139317, 0.1664863 , 0.14855033, 0.14388622, 0.124913  ,\n",
              "        0.12955   , 0.16522093],\n",
              "       [0.12139317, 0.1664863 , 0.14855033, 0.14388622, 0.124913  ,\n",
              "        0.12955   , 0.16522093],\n",
              "       [0.12139317, 0.1664863 , 0.14855033, 0.14388622, 0.124913  ,\n",
              "        0.12955   , 0.16522093],\n",
              "       [0.12139317, 0.1664863 , 0.14855033, 0.14388622, 0.124913  ,\n",
              "        0.12955   , 0.16522093],\n",
              "       [0.12139317, 0.1664863 , 0.14855033, 0.14388622, 0.124913  ,\n",
              "        0.12955   , 0.16522093],\n",
              "       [0.12139317, 0.1664863 , 0.14855033, 0.14388622, 0.124913  ,\n",
              "        0.12955   , 0.16522093],\n",
              "       [0.12139317, 0.1664863 , 0.14855033, 0.14388622, 0.124913  ,\n",
              "        0.12955   , 0.16522093],\n",
              "       [0.12139317, 0.1664863 , 0.14855033, 0.14388622, 0.124913  ,\n",
              "        0.12955   , 0.16522093],\n",
              "       [0.12139317, 0.1664863 , 0.14855033, 0.14388622, 0.124913  ,\n",
              "        0.12955   , 0.16522093],\n",
              "       [0.12139317, 0.1664863 , 0.14855033, 0.14388622, 0.124913  ,\n",
              "        0.12955   , 0.16522093]], dtype=float32)"
            ]
          },
          "metadata": {},
          "execution_count": 90
        }
      ],
      "source": [
        "mobilnet_model.predict(x_test)"
      ]
    },
    {
      "cell_type": "code",
      "source": [
        "mobilnet_model.summary()"
      ],
      "metadata": {
        "colab": {
          "base_uri": "https://localhost:8080/"
        },
        "id": "K-1N2xCkd1Th",
        "outputId": "85bac2dd-963e-4ce5-b955-ec6ac8b22a29"
      },
      "execution_count": 91,
      "outputs": [
        {
          "output_type": "stream",
          "name": "stdout",
          "text": [
            "Model: \"sequential_34\"\n",
            "_________________________________________________________________\n",
            " Layer (type)                Output Shape              Param #   \n",
            "=================================================================\n",
            " model_37 (Functional)       (None, 4, 1, 512)         3753088   \n",
            "                                                                 \n",
            " flatten_34 (Flatten)        (None, 2048)              0         \n",
            "                                                                 \n",
            " dropout_46 (Dropout)        (None, 2048)              0         \n",
            "                                                                 \n",
            " dense_83 (Dense)            (None, 7)                 14343     \n",
            "                                                                 \n",
            "=================================================================\n",
            "Total params: 3,767,431\n",
            "Trainable params: 539,143\n",
            "Non-trainable params: 3,228,288\n",
            "_________________________________________________________________\n"
          ]
        }
      ]
    },
    {
      "cell_type": "code",
      "source": [
        "classes=['firefly', 'off', 'party', 'red', 'sleep', 'white', 'yellow']\n",
        "predictions=[classes[i] for i in np.argmax(mobilnet_model.predict(x_test.reshape(len(x_test-1),128,44,1)),axis=1)]\n",
        "test_classes=[f.split('.')[0] for f in listdir(test_path) if isfile(join(test_path, f))]\n",
        "mydf=pd.DataFrame(data={'real':test_classes, 'pred':predictions})\n",
        "mydf"
      ],
      "metadata": {
        "colab": {
          "base_uri": "https://localhost:8080/",
          "height": 423
        },
        "id": "yxSzmAoRd-TE",
        "outputId": "7991b2ce-b762-4c6b-efb4-47660081f3fe"
      },
      "execution_count": 92,
      "outputs": [
        {
          "output_type": "execute_result",
          "data": {
            "text/plain": [
              "        real pred\n",
              "0      party  off\n",
              "1      party  off\n",
              "2      party  off\n",
              "3     yellow  off\n",
              "4      white  off\n",
              "..       ...  ...\n",
              "98     sleep  off\n",
              "99       off  off\n",
              "100      red  off\n",
              "101  firefly  off\n",
              "102      off  off\n",
              "\n",
              "[103 rows x 2 columns]"
            ],
            "text/html": [
              "\n",
              "  <div id=\"df-ef45092a-656c-401b-8dd9-978ce0bbe325\">\n",
              "    <div class=\"colab-df-container\">\n",
              "      <div>\n",
              "<style scoped>\n",
              "    .dataframe tbody tr th:only-of-type {\n",
              "        vertical-align: middle;\n",
              "    }\n",
              "\n",
              "    .dataframe tbody tr th {\n",
              "        vertical-align: top;\n",
              "    }\n",
              "\n",
              "    .dataframe thead th {\n",
              "        text-align: right;\n",
              "    }\n",
              "</style>\n",
              "<table border=\"1\" class=\"dataframe\">\n",
              "  <thead>\n",
              "    <tr style=\"text-align: right;\">\n",
              "      <th></th>\n",
              "      <th>real</th>\n",
              "      <th>pred</th>\n",
              "    </tr>\n",
              "  </thead>\n",
              "  <tbody>\n",
              "    <tr>\n",
              "      <th>0</th>\n",
              "      <td>party</td>\n",
              "      <td>off</td>\n",
              "    </tr>\n",
              "    <tr>\n",
              "      <th>1</th>\n",
              "      <td>party</td>\n",
              "      <td>off</td>\n",
              "    </tr>\n",
              "    <tr>\n",
              "      <th>2</th>\n",
              "      <td>party</td>\n",
              "      <td>off</td>\n",
              "    </tr>\n",
              "    <tr>\n",
              "      <th>3</th>\n",
              "      <td>yellow</td>\n",
              "      <td>off</td>\n",
              "    </tr>\n",
              "    <tr>\n",
              "      <th>4</th>\n",
              "      <td>white</td>\n",
              "      <td>off</td>\n",
              "    </tr>\n",
              "    <tr>\n",
              "      <th>...</th>\n",
              "      <td>...</td>\n",
              "      <td>...</td>\n",
              "    </tr>\n",
              "    <tr>\n",
              "      <th>98</th>\n",
              "      <td>sleep</td>\n",
              "      <td>off</td>\n",
              "    </tr>\n",
              "    <tr>\n",
              "      <th>99</th>\n",
              "      <td>off</td>\n",
              "      <td>off</td>\n",
              "    </tr>\n",
              "    <tr>\n",
              "      <th>100</th>\n",
              "      <td>red</td>\n",
              "      <td>off</td>\n",
              "    </tr>\n",
              "    <tr>\n",
              "      <th>101</th>\n",
              "      <td>firefly</td>\n",
              "      <td>off</td>\n",
              "    </tr>\n",
              "    <tr>\n",
              "      <th>102</th>\n",
              "      <td>off</td>\n",
              "      <td>off</td>\n",
              "    </tr>\n",
              "  </tbody>\n",
              "</table>\n",
              "<p>103 rows × 2 columns</p>\n",
              "</div>\n",
              "      <button class=\"colab-df-convert\" onclick=\"convertToInteractive('df-ef45092a-656c-401b-8dd9-978ce0bbe325')\"\n",
              "              title=\"Convert this dataframe to an interactive table.\"\n",
              "              style=\"display:none;\">\n",
              "        \n",
              "  <svg xmlns=\"http://www.w3.org/2000/svg\" height=\"24px\"viewBox=\"0 0 24 24\"\n",
              "       width=\"24px\">\n",
              "    <path d=\"M0 0h24v24H0V0z\" fill=\"none\"/>\n",
              "    <path d=\"M18.56 5.44l.94 2.06.94-2.06 2.06-.94-2.06-.94-.94-2.06-.94 2.06-2.06.94zm-11 1L8.5 8.5l.94-2.06 2.06-.94-2.06-.94L8.5 2.5l-.94 2.06-2.06.94zm10 10l.94 2.06.94-2.06 2.06-.94-2.06-.94-.94-2.06-.94 2.06-2.06.94z\"/><path d=\"M17.41 7.96l-1.37-1.37c-.4-.4-.92-.59-1.43-.59-.52 0-1.04.2-1.43.59L10.3 9.45l-7.72 7.72c-.78.78-.78 2.05 0 2.83L4 21.41c.39.39.9.59 1.41.59.51 0 1.02-.2 1.41-.59l7.78-7.78 2.81-2.81c.8-.78.8-2.07 0-2.86zM5.41 20L4 18.59l7.72-7.72 1.47 1.35L5.41 20z\"/>\n",
              "  </svg>\n",
              "      </button>\n",
              "      \n",
              "  <style>\n",
              "    .colab-df-container {\n",
              "      display:flex;\n",
              "      flex-wrap:wrap;\n",
              "      gap: 12px;\n",
              "    }\n",
              "\n",
              "    .colab-df-convert {\n",
              "      background-color: #E8F0FE;\n",
              "      border: none;\n",
              "      border-radius: 50%;\n",
              "      cursor: pointer;\n",
              "      display: none;\n",
              "      fill: #1967D2;\n",
              "      height: 32px;\n",
              "      padding: 0 0 0 0;\n",
              "      width: 32px;\n",
              "    }\n",
              "\n",
              "    .colab-df-convert:hover {\n",
              "      background-color: #E2EBFA;\n",
              "      box-shadow: 0px 1px 2px rgba(60, 64, 67, 0.3), 0px 1px 3px 1px rgba(60, 64, 67, 0.15);\n",
              "      fill: #174EA6;\n",
              "    }\n",
              "\n",
              "    [theme=dark] .colab-df-convert {\n",
              "      background-color: #3B4455;\n",
              "      fill: #D2E3FC;\n",
              "    }\n",
              "\n",
              "    [theme=dark] .colab-df-convert:hover {\n",
              "      background-color: #434B5C;\n",
              "      box-shadow: 0px 1px 3px 1px rgba(0, 0, 0, 0.15);\n",
              "      filter: drop-shadow(0px 1px 2px rgba(0, 0, 0, 0.3));\n",
              "      fill: #FFFFFF;\n",
              "    }\n",
              "  </style>\n",
              "\n",
              "      <script>\n",
              "        const buttonEl =\n",
              "          document.querySelector('#df-ef45092a-656c-401b-8dd9-978ce0bbe325 button.colab-df-convert');\n",
              "        buttonEl.style.display =\n",
              "          google.colab.kernel.accessAllowed ? 'block' : 'none';\n",
              "\n",
              "        async function convertToInteractive(key) {\n",
              "          const element = document.querySelector('#df-ef45092a-656c-401b-8dd9-978ce0bbe325');\n",
              "          const dataTable =\n",
              "            await google.colab.kernel.invokeFunction('convertToInteractive',\n",
              "                                                     [key], {});\n",
              "          if (!dataTable) return;\n",
              "\n",
              "          const docLinkHtml = 'Like what you see? Visit the ' +\n",
              "            '<a target=\"_blank\" href=https://colab.research.google.com/notebooks/data_table.ipynb>data table notebook</a>'\n",
              "            + ' to learn more about interactive tables.';\n",
              "          element.innerHTML = '';\n",
              "          dataTable['output_type'] = 'display_data';\n",
              "          await google.colab.output.renderOutput(dataTable, element);\n",
              "          const docLink = document.createElement('div');\n",
              "          docLink.innerHTML = docLinkHtml;\n",
              "          element.appendChild(docLink);\n",
              "        }\n",
              "      </script>\n",
              "    </div>\n",
              "  </div>\n",
              "  "
            ]
          },
          "metadata": {},
          "execution_count": 92
        }
      ]
    },
    {
      "cell_type": "code",
      "execution_count": 33,
      "metadata": {
        "id": "MtCQdky9X25s"
      },
      "outputs": [],
      "source": [
        "def predictSound(soundFile):\n",
        "    x=features_extractorcnn(soundFile)\n",
        "    i=np.argmax(mobilnet_model.predict(x[np.newaxis,...]))\n",
        "    return classes[i]\n",
        "    \n",
        "    "
      ]
    },
    {
      "cell_type": "code",
      "execution_count": 62,
      "metadata": {
        "id": "mN3-X6fNX25s",
        "outputId": "3f5cee25-d8ac-4c27-c1e7-27c1b2f1fab9",
        "colab": {
          "base_uri": "https://localhost:8080/",
          "height": 35
        }
      },
      "outputs": [
        {
          "output_type": "execute_result",
          "data": {
            "text/plain": [
              "'off'"
            ],
            "application/vnd.google.colaboratory.intrinsic+json": {
              "type": "string"
            }
          },
          "metadata": {},
          "execution_count": 62
        }
      ],
      "source": [
        "predictSound('/content/sample_data/test/firefly.2v6b5tfg.ingestion-7558d88f45-k9jh8.wav')"
      ]
    },
    {
      "cell_type": "code",
      "source": [
        "from io import BytesIO\n",
        "from base64 import b64decode\n",
        "from google.colab import output\n",
        "import IPython.display as ipd\n",
        "\n",
        "from IPython.display import Javascript\n",
        "\n",
        "\n",
        "\n",
        "\n",
        "def record(sec=1):\n",
        "  RECORD = \"\"\"\n",
        "const sleep  = time => new Promise(resolve => setTimeout(resolve, time))\n",
        "const b2text = blob => new Promise(resolve => {\n",
        "  const reader = new FileReader()\n",
        "  reader.onloadend = e => resolve(e.srcElement.result)\n",
        "  reader.readAsDataURL(blob)\n",
        "})\n",
        "var record = time => new Promise(async resolve => {\n",
        "  stream = await navigator.mediaDevices.getUserMedia({ audio: true })\n",
        "  recorder = new MediaRecorder(stream)\n",
        "  chunks = []\n",
        "  recorder.ondataavailable = e => chunks.push(e.data)\n",
        "  recorder.start()\n",
        "  await sleep(time)\n",
        "  recorder.onstop = async ()=>{\n",
        "    blob = new Blob(chunks)\n",
        "    text = await b2text(blob)\n",
        "    resolve(text)\n",
        "  }\n",
        "  recorder.stop()\n",
        "})\n",
        "\"\"\"\n",
        "  print(\"Speak Now...\")\n",
        "  display(Javascript(RECORD))\n",
        "  # sec += 0.03\n",
        "  sec += 1.0\n",
        "  s = output.eval_js('record(%d)' % (sec*1000))\n",
        "  print(\"Done Recording !\")\n",
        "  b = b64decode(s.split(',')[1])\n",
        "  ipd.display(ipd.Audio(b))\n",
        "  with open('audio.wav','wb') as f:\n",
        "    f.write(b)\n",
        "  audio, sample_rate = librosa.load('audio.wav')\n",
        "  os.remove(\"audio.wav\") \n",
        "  mfccs_features =librosa.feature.melspectrogram(y=audio[200:22250],sr=sample_rate)\n",
        "  return mfccs_features.reshape(128,44,1)"
      ],
      "metadata": {
        "id": "1uOYq9dyCBKx"
      },
      "execution_count": 61,
      "outputs": []
    },
    {
      "cell_type": "code",
      "execution_count": 63,
      "metadata": {
        "id": "pbyc_psXX25t"
      },
      "outputs": [],
      "source": [
        "\n",
        "def predictRecord():\n",
        "    \n",
        "    x=record() \n",
        "    i=np.argmax(mobilnet_model.predict(x[np.newaxis,...]))\n",
        "    return classes[i]"
      ]
    },
    {
      "cell_type": "code",
      "execution_count": 64,
      "metadata": {
        "id": "xtkQalAuX25t",
        "outputId": "6b670bc3-efaa-4e08-8e13-7c21d7346bcc",
        "colab": {
          "base_uri": "https://localhost:8080/",
          "height": 163
        }
      },
      "outputs": [
        {
          "output_type": "stream",
          "name": "stdout",
          "text": [
            "Speak Now...\n"
          ]
        },
        {
          "output_type": "display_data",
          "data": {
            "text/plain": [
              "<IPython.core.display.Javascript object>"
            ],
            "application/javascript": [
              "\n",
              "const sleep  = time => new Promise(resolve => setTimeout(resolve, time))\n",
              "const b2text = blob => new Promise(resolve => {\n",
              "  const reader = new FileReader()\n",
              "  reader.onloadend = e => resolve(e.srcElement.result)\n",
              "  reader.readAsDataURL(blob)\n",
              "})\n",
              "var record = time => new Promise(async resolve => {\n",
              "  stream = await navigator.mediaDevices.getUserMedia({ audio: true })\n",
              "  recorder = new MediaRecorder(stream)\n",
              "  chunks = []\n",
              "  recorder.ondataavailable = e => chunks.push(e.data)\n",
              "  recorder.start()\n",
              "  await sleep(time)\n",
              "  recorder.onstop = async ()=>{\n",
              "    blob = new Blob(chunks)\n",
              "    text = await b2text(blob)\n",
              "    resolve(text)\n",
              "  }\n",
              "  recorder.stop()\n",
              "})\n"
            ]
          },
          "metadata": {}
        },
        {
          "output_type": "stream",
          "name": "stdout",
          "text": [
            "Done Recording !\n"
          ]
        },
        {
          "output_type": "display_data",
          "data": {
            "text/plain": [
              "<IPython.lib.display.Audio object>"
            ],
            "text/html": [
              "\n",
              "                <audio controls=\"controls\" >\n",
              "                    <source src=\"data:audio/wav;base64,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\" type=\"audio/wav\" />\n",
              "                    Your browser does not support the audio element.\n",
              "                </audio>\n",
              "              "
            ]
          },
          "metadata": {}
        },
        {
          "output_type": "stream",
          "name": "stderr",
          "text": [
            "/usr/local/lib/python3.7/dist-packages/librosa/core/audio.py:165: UserWarning: PySoundFile failed. Trying audioread instead.\n",
            "  warnings.warn(\"PySoundFile failed. Trying audioread instead.\")\n"
          ]
        },
        {
          "output_type": "execute_result",
          "data": {
            "text/plain": [
              "'off'"
            ],
            "application/vnd.google.colaboratory.intrinsic+json": {
              "type": "string"
            }
          },
          "metadata": {},
          "execution_count": 64
        }
      ],
      "source": [
        "predictRecord()"
      ]
    }
  ],
  "metadata": {
    "kernelspec": {
      "display_name": "Python 3",
      "language": "python",
      "name": "python3"
    },
    "language_info": {
      "codemirror_mode": {
        "name": "ipython",
        "version": 3
      },
      "file_extension": ".py",
      "mimetype": "text/x-python",
      "name": "python",
      "nbconvert_exporter": "python",
      "pygments_lexer": "ipython3",
      "version": "3.8.5"
    },
    "colab": {
      "name": "CNN_mobilnet-modeified.ipynb",
      "provenance": [],
      "collapsed_sections": []
    },
    "accelerator": "GPU"
  },
  "nbformat": 4,
  "nbformat_minor": 0
}