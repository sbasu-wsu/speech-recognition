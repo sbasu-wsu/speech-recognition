{
 "cells": [
  {
   "cell_type": "code",
   "execution_count": 648,
   "metadata": {},
   "outputs": [],
   "source": [
    "import tensorflow as tf\n",
    "from tensorflow import keras\n",
    "from tensorflow.keras import layers,Model\n",
    "from keras.layers import Activation, Dense,Conv2D,Dropout,Activation,Flatten,MaxPooling2D\n",
    "from tensorflow.keras.models import Sequential\n",
    "#from tensorflow.keras.layers import Dense,\n",
    "#from tensorflow.keras.utils import to_categorical\n",
    "import imblearn\n",
    "from imblearn.over_sampling import RandomOverSampler,SMOTE\n",
    "import pandas as pd\n",
    "import numpy as np\n",
    "from os import listdir\n",
    "from os.path import isfile, join\n",
    "import librosa\n",
    "from sklearn.model_selection import train_test_split\n",
    "\n"
   ]
  },
  {
   "cell_type": "code",
   "execution_count": 649,
   "metadata": {},
   "outputs": [],
   "source": [
    "train_path='D:\\\\upwork\\\\New folder (2)\\\\training'\n",
    "test_path='D:\\\\upwork\\\\New folder (2)\\\\testing'\n",
    "model_path='D:\\\\upwork\\\\New folder (2)\\\\audio_classification'\n"
   ]
  },
  {
   "cell_type": "code",
   "execution_count": 650,
   "metadata": {},
   "outputs": [],
   "source": [
    "def features_extractorcnn(file_name):\n",
    "    audio, sample_rate = librosa.load(file_name) \n",
    "    mfccs_features =librosa.feature.melspectrogram(y=audio,sr=sample_rate)\n",
    "    #mfccs_scaled_features = np.mean(mfccs_features.T,axis=0)\n",
    "    \n",
    "    return mfccs_features.reshape(128,44,1)"
   ]
  },
  {
   "cell_type": "code",
   "execution_count": 651,
   "metadata": {},
   "outputs": [
    {
     "data": {
      "text/plain": [
       "(128, 44, 1)"
      ]
     },
     "execution_count": 651,
     "metadata": {},
     "output_type": "execute_result"
    }
   ],
   "source": [
    "features_extractorcnn('D:\\\\upwork\\\\New folder (2)\\\\training\\\\blue.unknown.2uelmobe.ingestion-5b9bcd5b54-nclkz.wav').shape"
   ]
  },
  {
   "cell_type": "code",
   "execution_count": 652,
   "metadata": {},
   "outputs": [],
   "source": []
  },
  {
   "cell_type": "code",
   "execution_count": 653,
   "metadata": {},
   "outputs": [],
   "source": [
    "x=np.array([features_extractorcnn(train_path+'\\\\'+f) for f in listdir(train_path) if isfile(join(train_path, f))])\n",
    "x_test=np.array([features_extractorcnn(test_path+'\\\\'+f) for f in listdir(test_path) if isfile(join(test_path, f))])"
   ]
  },
  {
   "cell_type": "code",
   "execution_count": 655,
   "metadata": {},
   "outputs": [],
   "source": [
    "y=np.array([f.split('.')[0] for f in listdir(train_path) if isfile(join(train_path, f))])\n",
    "y=np.array(pd.get_dummies(y))\n",
    "\n",
    "#y_test=np.array([f.split('.')[0] for f in listdir(test_path) if isfile(join(test_path, f))])\n",
    "#y_test=np.array(pd.get_dummies(y_test))"
   ]
  },
  {
   "cell_type": "code",
   "execution_count": 656,
   "metadata": {},
   "outputs": [],
   "source": [
    "x_train,x_val,y_train,y_val=train_test_split(x,y,test_size=0.2,random_state=0)"
   ]
  },
  {
   "cell_type": "code",
   "execution_count": 657,
   "metadata": {},
   "outputs": [
    {
     "name": "stderr",
     "output_type": "stream",
     "text": [
      "C:\\ProgramData\\Anaconda3\\lib\\site-packages\\sklearn\\utils\\validation.py:70: FutureWarning: Pass classes=[ 0  1  2  3  4  5  6  7  8  9 10 11 12 13 14 15] as keyword args. From version 1.0 (renaming of 0.25) passing these as positional arguments will result in an error\n",
      "  warnings.warn(f\"Pass {args_msg} as keyword args. From version \"\n"
     ]
    }
   ],
   "source": [
    "oversample = RandomOverSampler(sampling_strategy='minority')\n",
    "#x_over, y_over = oversample.fit_resample(x_train, y_train)\n",
    "x_over, y_over = oversample.fit_resample(x_train.reshape(len(x_train),-1), y_train)\n",
    "x_over=x_over.reshape(len(x_over),128,44,1)"
   ]
  },
  {
   "cell_type": "code",
   "execution_count": 658,
   "metadata": {},
   "outputs": [
    {
     "data": {
      "text/plain": [
       "(462, 128, 44, 1)"
      ]
     },
     "execution_count": 658,
     "metadata": {},
     "output_type": "execute_result"
    }
   ],
   "source": [
    "x_over.shape"
   ]
  },
  {
   "cell_type": "code",
   "execution_count": 673,
   "metadata": {},
   "outputs": [
    {
     "name": "stdout",
     "output_type": "stream",
     "text": [
      "Epoch 1/10\n",
      "15/15 [==============================] - 3s 169ms/step - loss: 14.2628 - accuracy: 0.6082 - val_loss: 5.3128 - val_accuracy: 0.6220\n",
      "Epoch 2/10\n",
      "15/15 [==============================] - 2s 165ms/step - loss: 3.9804 - accuracy: 0.6991 - val_loss: 1.9418 - val_accuracy: 0.6463\n",
      "Epoch 3/10\n",
      "15/15 [==============================] - 3s 215ms/step - loss: 1.3360 - accuracy: 0.7035 - val_loss: 1.5051 - val_accuracy: 0.7195\n",
      "Epoch 4/10\n",
      "15/15 [==============================] - 3s 205ms/step - loss: 0.9424 - accuracy: 0.7208 - val_loss: 1.3622 - val_accuracy: 0.6707\n",
      "Epoch 5/10\n",
      "15/15 [==============================] - 3s 209ms/step - loss: 0.7366 - accuracy: 0.7489 - val_loss: 1.3144 - val_accuracy: 0.7439\n",
      "Epoch 6/10\n",
      "15/15 [==============================] - 3s 211ms/step - loss: 0.6687 - accuracy: 0.7576 - val_loss: 1.3041 - val_accuracy: 0.7073\n",
      "Epoch 7/10\n",
      "15/15 [==============================] - 3s 216ms/step - loss: 0.7350 - accuracy: 0.7727 - val_loss: 1.2604 - val_accuracy: 0.7561\n",
      "Epoch 8/10\n",
      "15/15 [==============================] - 3s 200ms/step - loss: 0.7413 - accuracy: 0.7835 - val_loss: 1.2429 - val_accuracy: 0.7439\n",
      "Epoch 9/10\n",
      "15/15 [==============================] - 3s 200ms/step - loss: 0.5880 - accuracy: 0.7771 - val_loss: 1.2350 - val_accuracy: 0.7927\n",
      "Epoch 10/10\n",
      "15/15 [==============================] - 3s 192ms/step - loss: 0.5380 - accuracy: 0.7987 - val_loss: 1.1945 - val_accuracy: 0.7927\n"
     ]
    },
    {
     "data": {
      "text/plain": [
       "<keras.callbacks.History at 0x1b7239364c0>"
      ]
     },
     "execution_count": 673,
     "metadata": {},
     "output_type": "execute_result"
    }
   ],
   "source": [
    "callback = tf.keras.callbacks.EarlyStopping(monitor='val_accuracy', patience=3)\n",
    "\n",
    "model=keras.Sequential([\n",
    "    #cnn\n",
    "    layers.Conv2D(filters=32,kernel_size=(3,3),activation='relu',input_shape=(128,44,1)),\n",
    "    keras.layers.Dropout(0.4),\n",
    "    layers.MaxPooling2D((2,2)),\n",
    "    layers.Conv2D(filters=64,kernel_size=(3,3),activation='relu'),\n",
    "    keras.layers.Dropout(0.4),\n",
    "    layers.MaxPooling2D((2,2)),\n",
    "    \n",
    "    #dense\n",
    "    layers.Flatten(),\n",
    "    layers.Dense(64,activation='relu'),\n",
    "    keras.layers.Dropout(0.4),\n",
    "    layers.Dense(16,activation='softmax')\n",
    "    \n",
    "])\n",
    "model.compile(optimizer='adam',\n",
    "            loss='categorical_crossentropy',\n",
    "            metrics=['accuracy'])\n",
    "model.fit(x_over,y_over, epochs=10, validation_data=(x_val, y_val),callbacks=[callback])\n"
   ]
  },
  {
   "cell_type": "code",
   "execution_count": 665,
   "metadata": {},
   "outputs": [
    {
     "data": {
      "text/plain": [
       "<keras.callbacks.EarlyStopping at 0x1b73212baf0>"
      ]
     },
     "execution_count": 665,
     "metadata": {},
     "output_type": "execute_result"
    }
   ],
   "source": []
  },
  {
   "cell_type": "code",
   "execution_count": 675,
   "metadata": {},
   "outputs": [
    {
     "name": "stdout",
     "output_type": "stream",
     "text": [
      "Model: \"sequential_80\"\n",
      "_________________________________________________________________\n",
      "Layer (type)                 Output Shape              Param #   \n",
      "=================================================================\n",
      "conv2d_78 (Conv2D)           (None, 126, 42, 32)       320       \n",
      "_________________________________________________________________\n",
      "dropout_117 (Dropout)        (None, 126, 42, 32)       0         \n",
      "_________________________________________________________________\n",
      "max_pooling2d_74 (MaxPooling (None, 63, 21, 32)        0         \n",
      "_________________________________________________________________\n",
      "conv2d_79 (Conv2D)           (None, 61, 19, 64)        18496     \n",
      "_________________________________________________________________\n",
      "dropout_118 (Dropout)        (None, 61, 19, 64)        0         \n",
      "_________________________________________________________________\n",
      "max_pooling2d_75 (MaxPooling (None, 30, 9, 64)         0         \n",
      "_________________________________________________________________\n",
      "flatten_46 (Flatten)         (None, 17280)             0         \n",
      "_________________________________________________________________\n",
      "dense_194 (Dense)            (None, 64)                1105984   \n",
      "_________________________________________________________________\n",
      "dropout_119 (Dropout)        (None, 64)                0         \n",
      "_________________________________________________________________\n",
      "dense_195 (Dense)            (None, 16)                1040      \n",
      "=================================================================\n",
      "Total params: 1,125,840\n",
      "Trainable params: 1,125,840\n",
      "Non-trainable params: 0\n",
      "_________________________________________________________________\n"
     ]
    }
   ],
   "source": [
    "model.summary()"
   ]
  },
  {
   "cell_type": "code",
   "execution_count": 694,
   "metadata": {},
   "outputs": [
    {
     "data": {
      "text/plain": [
       "array([[1.57463455e-05, 1.28463525e-02, 2.73213232e-06, ...,\n",
       "        1.57287926e-04, 4.46613376e-06, 5.51449833e-04],\n",
       "       [4.45998413e-03, 4.10872288e-02, 5.41455718e-03, ...,\n",
       "        2.44749989e-03, 3.92155908e-03, 7.30364874e-04],\n",
       "       [9.82374847e-02, 8.81673861e-03, 1.50404330e-02, ...,\n",
       "        2.16458738e-03, 2.80724820e-02, 2.71524414e-02],\n",
       "       ...,\n",
       "       [5.17129783e-10, 3.96168565e-09, 6.12924295e-12, ...,\n",
       "        4.44893731e-12, 2.51287324e-10, 9.41983817e-12],\n",
       "       [4.56418209e-02, 8.75389576e-02, 1.79952048e-02, ...,\n",
       "        1.90518852e-02, 4.29042280e-02, 2.44367607e-02],\n",
       "       [2.03563273e-02, 6.16203696e-02, 1.07393675e-02, ...,\n",
       "        8.94686114e-03, 5.22967381e-03, 6.02099672e-03]], dtype=float32)"
      ]
     },
     "execution_count": 694,
     "metadata": {},
     "output_type": "execute_result"
    }
   ],
   "source": [
    "model.predict(x_test)"
   ]
  },
  {
   "cell_type": "code",
   "execution_count": 695,
   "metadata": {},
   "outputs": [],
   "source": [
    "predictions=[classes[i] for i in np.argmax(model.predict(x_test.reshape(len(x_test-1),128,44,1)),axis=1)]"
   ]
  },
  {
   "cell_type": "code",
   "execution_count": 696,
   "metadata": {},
   "outputs": [],
   "source": [
    "test_classes=[f.split('.')[0] for f in listdir(test_path) if isfile(join(test_path, f))]"
   ]
  },
  {
   "cell_type": "code",
   "execution_count": 697,
   "metadata": {},
   "outputs": [],
   "source": [
    "mydf=pd.DataFrame(data={'pred':predictions,'real':test_classes})"
   ]
  },
  {
   "cell_type": "code",
   "execution_count": 698,
   "metadata": {},
   "outputs": [
    {
     "data": {
      "text/html": [
       "<div>\n",
       "<style scoped>\n",
       "    .dataframe tbody tr th:only-of-type {\n",
       "        vertical-align: middle;\n",
       "    }\n",
       "\n",
       "    .dataframe tbody tr th {\n",
       "        vertical-align: top;\n",
       "    }\n",
       "\n",
       "    .dataframe thead th {\n",
       "        text-align: right;\n",
       "    }\n",
       "</style>\n",
       "<table border=\"1\" class=\"dataframe\">\n",
       "  <thead>\n",
       "    <tr style=\"text-align: right;\">\n",
       "      <th></th>\n",
       "      <th>pred</th>\n",
       "      <th>real</th>\n",
       "    </tr>\n",
       "  </thead>\n",
       "  <tbody>\n",
       "    <tr>\n",
       "      <th>0</th>\n",
       "      <td>unknown</td>\n",
       "      <td>change_color</td>\n",
       "    </tr>\n",
       "    <tr>\n",
       "      <th>1</th>\n",
       "      <td>unknown</td>\n",
       "      <td>change_color</td>\n",
       "    </tr>\n",
       "    <tr>\n",
       "      <th>2</th>\n",
       "      <td>unknown</td>\n",
       "      <td>change_color</td>\n",
       "    </tr>\n",
       "    <tr>\n",
       "      <th>3</th>\n",
       "      <td>noise</td>\n",
       "      <td>noise</td>\n",
       "    </tr>\n",
       "    <tr>\n",
       "      <th>4</th>\n",
       "      <td>noise</td>\n",
       "      <td>noise</td>\n",
       "    </tr>\n",
       "    <tr>\n",
       "      <th>...</th>\n",
       "      <td>...</td>\n",
       "      <td>...</td>\n",
       "    </tr>\n",
       "    <tr>\n",
       "      <th>82</th>\n",
       "      <td>unknown</td>\n",
       "      <td>unknown</td>\n",
       "    </tr>\n",
       "    <tr>\n",
       "      <th>83</th>\n",
       "      <td>unknown</td>\n",
       "      <td>unknown</td>\n",
       "    </tr>\n",
       "    <tr>\n",
       "      <th>84</th>\n",
       "      <td>unknown</td>\n",
       "      <td>unknown</td>\n",
       "    </tr>\n",
       "    <tr>\n",
       "      <th>85</th>\n",
       "      <td>unknown</td>\n",
       "      <td>unknown</td>\n",
       "    </tr>\n",
       "    <tr>\n",
       "      <th>86</th>\n",
       "      <td>unknown</td>\n",
       "      <td>unknown</td>\n",
       "    </tr>\n",
       "  </tbody>\n",
       "</table>\n",
       "<p>87 rows × 2 columns</p>\n",
       "</div>"
      ],
      "text/plain": [
       "       pred          real\n",
       "0   unknown  change_color\n",
       "1   unknown  change_color\n",
       "2   unknown  change_color\n",
       "3     noise         noise\n",
       "4     noise         noise\n",
       "..      ...           ...\n",
       "82  unknown       unknown\n",
       "83  unknown       unknown\n",
       "84  unknown       unknown\n",
       "85  unknown       unknown\n",
       "86  unknown       unknown\n",
       "\n",
       "[87 rows x 2 columns]"
      ]
     },
     "execution_count": 698,
     "metadata": {},
     "output_type": "execute_result"
    }
   ],
   "source": [
    "mydf"
   ]
  },
  {
   "cell_type": "code",
   "execution_count": null,
   "metadata": {},
   "outputs": [],
   "source": []
  },
  {
   "cell_type": "code",
   "execution_count": null,
   "metadata": {},
   "outputs": [],
   "source": []
  },
  {
   "cell_type": "code",
   "execution_count": null,
   "metadata": {},
   "outputs": [],
   "source": []
  }
 ],
 "metadata": {
  "kernelspec": {
   "display_name": "Python 3",
   "language": "python",
   "name": "python3"
  },
  "language_info": {
   "codemirror_mode": {
    "name": "ipython",
    "version": 3
   },
   "file_extension": ".py",
   "mimetype": "text/x-python",
   "name": "python",
   "nbconvert_exporter": "python",
   "pygments_lexer": "ipython3",
   "version": "3.8.5"
  }
 },
 "nbformat": 4,
 "nbformat_minor": 4
}
